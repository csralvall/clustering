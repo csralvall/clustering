{
  "nbformat": 4,
  "nbformat_minor": 5,
  "metadata": {
    "kernelspec": {
      "display_name": "Python 3 (ipykernel)",
      "language": "python",
      "name": "python3"
    },
    "language_info": {
      "codemirror_mode": {
        "name": "ipython",
        "version": 3
      },
      "file_extension": ".py",
      "mimetype": "text/x-python",
      "name": "python",
      "nbconvert_exporter": "python",
      "pygments_lexer": "ipython3",
      "version": "3.9.7"
    },
    "colab": {
      "name": "clustering.ipynb",
      "provenance": [],
      "collapsed_sections": [],
      "include_colab_link": true
    }
  },
  "cells": [
    {
      "cell_type": "markdown",
      "metadata": {
        "id": "view-in-github",
        "colab_type": "text"
      },
      "source": [
        "<a href=\"https://colab.research.google.com/github/csralvall/clustering/blob/main/clustering.ipynb\" target=\"_parent\"><img src=\"https://colab.research.google.com/assets/colab-badge.svg\" alt=\"Open In Colab\"/></a>"
      ]
    },
    {
      "cell_type": "markdown",
      "metadata": {
        "id": "ccd3eb08"
      },
      "source": [
        "# Clustering\n",
        "\n",
        "> Trabajo perteneciente a la cátedra \"Text Mining\" de Laura Alonso Alemany - FaMAF UNC. 2021\n",
        "\n",
        "- _Corpus:_ compendio de noticias de \"La Voz del Interior\"\n",
        "- _Referencias:_ \n",
        "    - [word_clustering](https://github.com/danibosch/word_clustering) \n",
        "    de [@danibosch](https://github.com/danibosch)\n",
        "    - [textmining-clustering](https://github.com/facumolina/textmining-clustering) \n",
        "    de [@facumolina](https://github.com/facumolina/textmining-clustering)\n",
        "\n",
        "## Etapas:\n",
        "\n",
        "#### 1. Preprocesamiento:\n",
        "   1. [Limpieza del dataset](#regex_clean):\n",
        "   \n",
        "       Se quitan simbolos no alfanumericos mediante regex.\n",
        "       \n",
        "       \n",
        "   2. [Procesamiento con el pipeline de spacy](#spacy_pipeline):\n",
        "   \n",
        "       El pipeline de spacy ejecuta las siguientes tareas:\n",
        "       - Segmentacion en tokens.\n",
        "       - Vectorizacion.\n",
        "       - Analisis morfologico (genero, numero, etc.).\n",
        "       - Analisis de dependencias.\n",
        "       - Clasificacion por reglas.\n",
        "       - Lematizacion.\n",
        "       - Clasificacion de entidades.\n",
        "       - Conteo de frecuencias de lemas ([agregado](#lemma_freq_counter)).\n",
        "       \n",
        "       \n",
        "   3. [Filtrado](#filtering):\n",
        "   \n",
        "      Se busca un subconjunto de tokens\n",
        "      que cumplan las siguientes caracteristicas:\n",
        "       - no contiene caracteres no alfabeticos\n",
        "       - no es \"stop word\"\n",
        "       - no expresa un numero\n",
        "       \n",
        "       \n",
        "   4. [Generacion de **features**](#feature_generation):\n",
        "   \n",
        "      Por cada palabra del conjunto procesado en el paso anterior \n",
        "      generar un conjunto de features de acuerdo con:\n",
        "       - el tipo de palabra.\n",
        "       - su funcion sintactica.\n",
        "       - su coocurrencia con palabras en su misma oracion (contexto).\n",
        "       - el tipo de entidad que es, en el caso que lo sea.\n",
        "       - la dependencia con su predecesor sintactico en el arbol de dependencias.\n",
        "       \n",
        "       \n",
        "   5. [Separacion de palabras y features](#key_feature_division).\n",
        "   6. [Vectorizacion de features](#feature_vectorization).\n",
        "   7. [Normalizacion de features](#feature_normalization).\n",
        "    \n",
        "\n",
        "#### 2. [Clusterizacion](#clustering):\n",
        "   1. Eleccion del numero de clusters.\n",
        "   2. Seleccion del estado aleatorio para obtener resultados deterministicos.\n",
        "   3. Instanciacion del algoritmo KMeans para obtener los clusters.\n",
        "    \n",
        "#### 3. Resultados:\n",
        "   1. [Conteo de palabras por cluster](#summary).\n",
        "   2. [Listado de clusters con la siguiente informacion](#results):\n",
        "      - Numero de cluster.\n",
        "      - Features mas determinantes para ese cluster.\n",
        "      - Palabras dentro del cluster."
      ],
      "id": "ccd3eb08"
    },
    {
      "cell_type": "code",
      "metadata": {
        "colab": {
          "base_uri": "https://localhost:8080/"
        },
        "id": "D78alZmcm8MX",
        "outputId": "4a7a0277-8970-4475-ce20-f93c4c18e5b6"
      },
      "source": [
        "!pip install -U pip setuptools wheel\n",
        "!pip install -U spacy sklearn numpy spacy nltk gensim"
      ],
      "id": "D78alZmcm8MX",
      "execution_count": 1,
      "outputs": [
        {
          "output_type": "stream",
          "name": "stdout",
          "text": [
            "Requirement already satisfied: pip in /usr/local/lib/python3.7/dist-packages (21.2.4)\n",
            "Requirement already satisfied: setuptools in /usr/local/lib/python3.7/dist-packages (58.2.0)\n",
            "Requirement already satisfied: wheel in /usr/local/lib/python3.7/dist-packages (0.37.0)\n",
            "\u001b[33mWARNING: Running pip as the 'root' user can result in broken permissions and conflicting behaviour with the system package manager. It is recommended to use a virtual environment instead: https://pip.pypa.io/warnings/venv\u001b[0m\n",
            "Requirement already satisfied: spacy in /usr/local/lib/python3.7/dist-packages (3.1.3)\n",
            "Requirement already satisfied: sklearn in /usr/local/lib/python3.7/dist-packages (0.0)\n",
            "Requirement already satisfied: numpy in /usr/local/lib/python3.7/dist-packages (1.21.2)\n",
            "Requirement already satisfied: nltk in /usr/local/lib/python3.7/dist-packages (3.6.3)\n",
            "Requirement already satisfied: gensim in /usr/local/lib/python3.7/dist-packages (4.1.2)\n",
            "Requirement already satisfied: thinc<8.1.0,>=8.0.9 in /usr/local/lib/python3.7/dist-packages (from spacy) (8.0.10)\n",
            "Requirement already satisfied: srsly<3.0.0,>=2.4.1 in /usr/local/lib/python3.7/dist-packages (from spacy) (2.4.1)\n",
            "Requirement already satisfied: catalogue<2.1.0,>=2.0.6 in /usr/local/lib/python3.7/dist-packages (from spacy) (2.0.6)\n",
            "Requirement already satisfied: typer<0.5.0,>=0.3.0 in /usr/local/lib/python3.7/dist-packages (from spacy) (0.4.0)\n",
            "Requirement already satisfied: packaging>=20.0 in /usr/local/lib/python3.7/dist-packages (from spacy) (21.0)\n",
            "Requirement already satisfied: pydantic!=1.8,!=1.8.1,<1.9.0,>=1.7.4 in /usr/local/lib/python3.7/dist-packages (from spacy) (1.8.2)\n",
            "Requirement already satisfied: murmurhash<1.1.0,>=0.28.0 in /usr/local/lib/python3.7/dist-packages (from spacy) (1.0.5)\n",
            "Requirement already satisfied: tqdm<5.0.0,>=4.38.0 in /usr/local/lib/python3.7/dist-packages (from spacy) (4.62.3)\n",
            "Requirement already satisfied: spacy-legacy<3.1.0,>=3.0.8 in /usr/local/lib/python3.7/dist-packages (from spacy) (3.0.8)\n",
            "Requirement already satisfied: jinja2 in /usr/local/lib/python3.7/dist-packages (from spacy) (2.11.3)\n",
            "Requirement already satisfied: preshed<3.1.0,>=3.0.2 in /usr/local/lib/python3.7/dist-packages (from spacy) (3.0.5)\n",
            "Requirement already satisfied: requests<3.0.0,>=2.13.0 in /usr/local/lib/python3.7/dist-packages (from spacy) (2.23.0)\n",
            "Requirement already satisfied: cymem<2.1.0,>=2.0.2 in /usr/local/lib/python3.7/dist-packages (from spacy) (2.0.5)\n",
            "Requirement already satisfied: setuptools in /usr/local/lib/python3.7/dist-packages (from spacy) (58.2.0)\n",
            "Requirement already satisfied: blis<0.8.0,>=0.4.0 in /usr/local/lib/python3.7/dist-packages (from spacy) (0.4.1)\n",
            "Requirement already satisfied: wasabi<1.1.0,>=0.8.1 in /usr/local/lib/python3.7/dist-packages (from spacy) (0.8.2)\n",
            "Requirement already satisfied: typing-extensions<4.0.0.0,>=3.7.4 in /usr/local/lib/python3.7/dist-packages (from spacy) (3.7.4.3)\n",
            "Requirement already satisfied: pathy>=0.3.5 in /usr/local/lib/python3.7/dist-packages (from spacy) (0.6.0)\n",
            "Requirement already satisfied: scikit-learn in /usr/local/lib/python3.7/dist-packages (from sklearn) (0.22.2.post1)\n",
            "Requirement already satisfied: regex in /usr/local/lib/python3.7/dist-packages (from nltk) (2019.12.20)\n",
            "Requirement already satisfied: joblib in /usr/local/lib/python3.7/dist-packages (from nltk) (1.0.1)\n",
            "Requirement already satisfied: click in /usr/local/lib/python3.7/dist-packages (from nltk) (7.1.2)\n",
            "Requirement already satisfied: scipy>=0.18.1 in /usr/local/lib/python3.7/dist-packages (from gensim) (1.4.1)\n",
            "Requirement already satisfied: smart-open>=1.8.1 in /usr/local/lib/python3.7/dist-packages (from gensim) (5.2.1)\n",
            "Requirement already satisfied: zipp>=0.5 in /usr/local/lib/python3.7/dist-packages (from catalogue<2.1.0,>=2.0.6->spacy) (3.6.0)\n",
            "Requirement already satisfied: pyparsing>=2.0.2 in /usr/local/lib/python3.7/dist-packages (from packaging>=20.0->spacy) (2.4.7)\n",
            "Requirement already satisfied: idna<3,>=2.5 in /usr/local/lib/python3.7/dist-packages (from requests<3.0.0,>=2.13.0->spacy) (2.10)\n",
            "Requirement already satisfied: chardet<4,>=3.0.2 in /usr/local/lib/python3.7/dist-packages (from requests<3.0.0,>=2.13.0->spacy) (3.0.4)\n",
            "Requirement already satisfied: certifi>=2017.4.17 in /usr/local/lib/python3.7/dist-packages (from requests<3.0.0,>=2.13.0->spacy) (2021.5.30)\n",
            "Requirement already satisfied: urllib3!=1.25.0,!=1.25.1,<1.26,>=1.21.1 in /usr/local/lib/python3.7/dist-packages (from requests<3.0.0,>=2.13.0->spacy) (1.24.3)\n",
            "Requirement already satisfied: MarkupSafe>=0.23 in /usr/local/lib/python3.7/dist-packages (from jinja2->spacy) (2.0.1)\n",
            "\u001b[33mWARNING: Running pip as the 'root' user can result in broken permissions and conflicting behaviour with the system package manager. It is recommended to use a virtual environment instead: https://pip.pypa.io/warnings/venv\u001b[0m\n"
          ]
        }
      ]
    },
    {
      "cell_type": "code",
      "metadata": {
        "colab": {
          "base_uri": "https://localhost:8080/"
        },
        "id": "ycbSRRGstRzV",
        "outputId": "ba7f0d66-80c1-4819-fa00-01f9f1cb4958"
      },
      "source": [
        "!python -m spacy download es_core_news_md"
      ],
      "id": "ycbSRRGstRzV",
      "execution_count": 2,
      "outputs": [
        {
          "output_type": "stream",
          "name": "stdout",
          "text": [
            "Collecting es-core-news-md==3.1.0\n",
            "  Downloading https://github.com/explosion/spacy-models/releases/download/es_core_news_md-3.1.0/es_core_news_md-3.1.0-py3-none-any.whl (42.7 MB)\n",
            "\u001b[K     |████████████████████████████████| 42.7 MB 48 kB/s \n",
            "\u001b[?25hRequirement already satisfied: spacy<3.2.0,>=3.1.0 in /usr/local/lib/python3.7/dist-packages (from es-core-news-md==3.1.0) (3.1.3)\n",
            "Requirement already satisfied: typing-extensions<4.0.0.0,>=3.7.4 in /usr/local/lib/python3.7/dist-packages (from spacy<3.2.0,>=3.1.0->es-core-news-md==3.1.0) (3.7.4.3)\n",
            "Requirement already satisfied: wasabi<1.1.0,>=0.8.1 in /usr/local/lib/python3.7/dist-packages (from spacy<3.2.0,>=3.1.0->es-core-news-md==3.1.0) (0.8.2)\n",
            "Requirement already satisfied: packaging>=20.0 in /usr/local/lib/python3.7/dist-packages (from spacy<3.2.0,>=3.1.0->es-core-news-md==3.1.0) (21.0)\n",
            "Requirement already satisfied: setuptools in /usr/local/lib/python3.7/dist-packages (from spacy<3.2.0,>=3.1.0->es-core-news-md==3.1.0) (58.2.0)\n",
            "Requirement already satisfied: catalogue<2.1.0,>=2.0.6 in /usr/local/lib/python3.7/dist-packages (from spacy<3.2.0,>=3.1.0->es-core-news-md==3.1.0) (2.0.6)\n",
            "Requirement already satisfied: srsly<3.0.0,>=2.4.1 in /usr/local/lib/python3.7/dist-packages (from spacy<3.2.0,>=3.1.0->es-core-news-md==3.1.0) (2.4.1)\n",
            "Requirement already satisfied: murmurhash<1.1.0,>=0.28.0 in /usr/local/lib/python3.7/dist-packages (from spacy<3.2.0,>=3.1.0->es-core-news-md==3.1.0) (1.0.5)\n",
            "Requirement already satisfied: pathy>=0.3.5 in /usr/local/lib/python3.7/dist-packages (from spacy<3.2.0,>=3.1.0->es-core-news-md==3.1.0) (0.6.0)\n",
            "Requirement already satisfied: spacy-legacy<3.1.0,>=3.0.8 in /usr/local/lib/python3.7/dist-packages (from spacy<3.2.0,>=3.1.0->es-core-news-md==3.1.0) (3.0.8)\n",
            "Requirement already satisfied: thinc<8.1.0,>=8.0.9 in /usr/local/lib/python3.7/dist-packages (from spacy<3.2.0,>=3.1.0->es-core-news-md==3.1.0) (8.0.10)\n",
            "Requirement already satisfied: tqdm<5.0.0,>=4.38.0 in /usr/local/lib/python3.7/dist-packages (from spacy<3.2.0,>=3.1.0->es-core-news-md==3.1.0) (4.62.3)\n",
            "Requirement already satisfied: cymem<2.1.0,>=2.0.2 in /usr/local/lib/python3.7/dist-packages (from spacy<3.2.0,>=3.1.0->es-core-news-md==3.1.0) (2.0.5)\n",
            "Requirement already satisfied: typer<0.5.0,>=0.3.0 in /usr/local/lib/python3.7/dist-packages (from spacy<3.2.0,>=3.1.0->es-core-news-md==3.1.0) (0.4.0)\n",
            "Requirement already satisfied: numpy>=1.15.0 in /usr/local/lib/python3.7/dist-packages (from spacy<3.2.0,>=3.1.0->es-core-news-md==3.1.0) (1.21.2)\n",
            "Requirement already satisfied: jinja2 in /usr/local/lib/python3.7/dist-packages (from spacy<3.2.0,>=3.1.0->es-core-news-md==3.1.0) (2.11.3)\n",
            "Requirement already satisfied: preshed<3.1.0,>=3.0.2 in /usr/local/lib/python3.7/dist-packages (from spacy<3.2.0,>=3.1.0->es-core-news-md==3.1.0) (3.0.5)\n",
            "Requirement already satisfied: requests<3.0.0,>=2.13.0 in /usr/local/lib/python3.7/dist-packages (from spacy<3.2.0,>=3.1.0->es-core-news-md==3.1.0) (2.23.0)\n",
            "Requirement already satisfied: pydantic!=1.8,!=1.8.1,<1.9.0,>=1.7.4 in /usr/local/lib/python3.7/dist-packages (from spacy<3.2.0,>=3.1.0->es-core-news-md==3.1.0) (1.8.2)\n",
            "Requirement already satisfied: blis<0.8.0,>=0.4.0 in /usr/local/lib/python3.7/dist-packages (from spacy<3.2.0,>=3.1.0->es-core-news-md==3.1.0) (0.4.1)\n",
            "Requirement already satisfied: zipp>=0.5 in /usr/local/lib/python3.7/dist-packages (from catalogue<2.1.0,>=2.0.6->spacy<3.2.0,>=3.1.0->es-core-news-md==3.1.0) (3.6.0)\n",
            "Requirement already satisfied: pyparsing>=2.0.2 in /usr/local/lib/python3.7/dist-packages (from packaging>=20.0->spacy<3.2.0,>=3.1.0->es-core-news-md==3.1.0) (2.4.7)\n",
            "Requirement already satisfied: smart-open<6.0.0,>=5.0.0 in /usr/local/lib/python3.7/dist-packages (from pathy>=0.3.5->spacy<3.2.0,>=3.1.0->es-core-news-md==3.1.0) (5.2.1)\n",
            "Requirement already satisfied: certifi>=2017.4.17 in /usr/local/lib/python3.7/dist-packages (from requests<3.0.0,>=2.13.0->spacy<3.2.0,>=3.1.0->es-core-news-md==3.1.0) (2021.5.30)\n",
            "Requirement already satisfied: chardet<4,>=3.0.2 in /usr/local/lib/python3.7/dist-packages (from requests<3.0.0,>=2.13.0->spacy<3.2.0,>=3.1.0->es-core-news-md==3.1.0) (3.0.4)\n",
            "Requirement already satisfied: idna<3,>=2.5 in /usr/local/lib/python3.7/dist-packages (from requests<3.0.0,>=2.13.0->spacy<3.2.0,>=3.1.0->es-core-news-md==3.1.0) (2.10)\n",
            "Requirement already satisfied: urllib3!=1.25.0,!=1.25.1,<1.26,>=1.21.1 in /usr/local/lib/python3.7/dist-packages (from requests<3.0.0,>=2.13.0->spacy<3.2.0,>=3.1.0->es-core-news-md==3.1.0) (1.24.3)\n",
            "Requirement already satisfied: click<9.0.0,>=7.1.1 in /usr/local/lib/python3.7/dist-packages (from typer<0.5.0,>=0.3.0->spacy<3.2.0,>=3.1.0->es-core-news-md==3.1.0) (7.1.2)\n",
            "Requirement already satisfied: MarkupSafe>=0.23 in /usr/local/lib/python3.7/dist-packages (from jinja2->spacy<3.2.0,>=3.1.0->es-core-news-md==3.1.0) (2.0.1)\n",
            "\u001b[33mWARNING: Running pip as the 'root' user can result in broken permissions and conflicting behaviour with the system package manager. It is recommended to use a virtual environment instead: https://pip.pypa.io/warnings/venv\u001b[0m\n",
            "\u001b[38;5;2m✔ Download and installation successful\u001b[0m\n",
            "You can now load the package via spacy.load('es_core_news_md')\n"
          ]
        }
      ]
    },
    {
      "cell_type": "code",
      "metadata": {
        "id": "1e3bde19"
      },
      "source": [
        "from functools import reduce\n",
        "from gensim.models import Word2Vec\n",
        "import multiprocessing\n",
        "from nltk.cluster import kmeans, cosine_distance\n",
        "import numpy as np\n",
        "import re\n",
        "import spacy\n",
        "from spacy.tokens import Token\n",
        "from spacy.language import Language\n",
        "from sklearn.cluster import KMeans\n",
        "from sklearn.feature_extraction import DictVectorizer\n",
        "from sklearn.preprocessing import normalize\n",
        "from collections import Counter"
      ],
      "id": "1e3bde19",
      "execution_count": 3,
      "outputs": []
    },
    {
      "cell_type": "markdown",
      "metadata": {
        "id": "8dac925f"
      },
      "source": [
        "# Preprocessing"
      ],
      "id": "8dac925f"
    },
    {
      "cell_type": "code",
      "metadata": {
        "id": "16b9e394"
      },
      "source": [
        "# load trained model from spacy\n",
        "nlp = spacy.load(\"es_core_news_md\")"
      ],
      "id": "16b9e394",
      "execution_count": 4,
      "outputs": []
    },
    {
      "cell_type": "markdown",
      "metadata": {
        "id": "599677ed"
      },
      "source": [
        "<a id=\"lemma_freq_counter\"></a>"
      ],
      "id": "599677ed"
    },
    {
      "cell_type": "code",
      "metadata": {
        "id": "54b2d932"
      },
      "source": [
        "@Language.component(\"lemma_counter\")\n",
        "def lemma_counter(doc):\n",
        "    '''\n",
        "    custom component to count lemma frecuency\n",
        "    '''\n",
        "    lemmas = [token.lemma_ for token in doc]\n",
        "    lemmas_count = Counter(lemmas)\n",
        "    get_lemma_count = lambda x: lemmas_count[x.lemma_]\n",
        "    Token.set_extension(\"lemma_count\", getter = get_lemma_count)\n",
        "    return doc"
      ],
      "id": "54b2d932",
      "execution_count": 5,
      "outputs": []
    },
    {
      "cell_type": "code",
      "metadata": {
        "colab": {
          "base_uri": "https://localhost:8080/"
        },
        "id": "eea4b537",
        "outputId": "0a34cb33-8db2-49f2-ec19-a32721e3154a"
      },
      "source": [
        "# add custom component to pipeline\n",
        "nlp.add_pipe(\"lemma_counter\", name=\"lemma_freq_counter\", last=True)"
      ],
      "id": "eea4b537",
      "execution_count": 6,
      "outputs": [
        {
          "output_type": "execute_result",
          "data": {
            "text/plain": [
              "<function __main__.lemma_counter>"
            ]
          },
          "metadata": {},
          "execution_count": 6
        }
      ]
    },
    {
      "cell_type": "markdown",
      "metadata": {
        "id": "a93f24ce"
      },
      "source": [
        "<a id=\"regex_clean\"></a>"
      ],
      "id": "a93f24ce"
    },
    {
      "cell_type": "code",
      "metadata": {
        "colab": {
          "base_uri": "https://localhost:8080/"
        },
        "id": "MG93IIp0oiyl",
        "outputId": "ad863f91-1633-4f5c-cbfe-4d232026aaf9"
      },
      "source": [
        "!wget https://cs.famaf.unc.edu.ar/~laura/corpus/lavoztextodump.txt.tar.gz\n",
        "!tar -xvf lavoztextodump.txt.tar.gz"
      ],
      "id": "MG93IIp0oiyl",
      "execution_count": 7,
      "outputs": [
        {
          "output_type": "stream",
          "name": "stdout",
          "text": [
            "--2021-10-06 18:53:05--  https://cs.famaf.unc.edu.ar/~laura/corpus/lavoztextodump.txt.tar.gz\n",
            "Resolving cs.famaf.unc.edu.ar (cs.famaf.unc.edu.ar)... 200.16.17.55\n",
            "Connecting to cs.famaf.unc.edu.ar (cs.famaf.unc.edu.ar)|200.16.17.55|:443... connected.\n",
            "HTTP request sent, awaiting response... 200 OK\n",
            "Length: 12136935 (12M) [application/x-gzip]\n",
            "Saving to: ‘lavoztextodump.txt.tar.gz.4’\n",
            "\n",
            "lavoztextodump.txt. 100%[===================>]  11.57M  7.71MB/s    in 1.5s    \n",
            "\n",
            "2021-10-06 18:53:08 (7.71 MB/s) - ‘lavoztextodump.txt.tar.gz.4’ saved [12136935/12136935]\n",
            "\n",
            "lavoztextodump.txt\n"
          ]
        }
      ]
    },
    {
      "cell_type": "code",
      "metadata": {
        "id": "33bfda27"
      },
      "source": [
        "# open dataset\n",
        "filename = \"lavoztextodump.txt\"\n",
        "text_file = open(filename, \"r\")\n",
        "# load in memory\n",
        "dataset = text_file.read()\n",
        "#clean data\n",
        "dataset = re.sub('&#[0-9]{0,5}.', '', dataset)\n",
        "# close file\n",
        "text_file.close()"
      ],
      "id": "33bfda27",
      "execution_count": 8,
      "outputs": []
    },
    {
      "cell_type": "markdown",
      "metadata": {
        "id": "fc5ad5f5"
      },
      "source": [
        "<a id=\"spacy_pipeline\"></a>"
      ],
      "id": "fc5ad5f5"
    },
    {
      "cell_type": "code",
      "metadata": {
        "colab": {
          "base_uri": "https://localhost:8080/"
        },
        "id": "2161e472",
        "outputId": "b12a2f1f-4337-4203-f2f2-c7b2e27ab742"
      },
      "source": [
        "# show pipeline steps\n",
        "nlp.pipe_names"
      ],
      "id": "2161e472",
      "execution_count": 9,
      "outputs": [
        {
          "output_type": "execute_result",
          "data": {
            "text/plain": [
              "['tok2vec',\n",
              " 'morphologizer',\n",
              " 'parser',\n",
              " 'attribute_ruler',\n",
              " 'lemmatizer',\n",
              " 'ner',\n",
              " 'lemma_freq_counter']"
            ]
          },
          "metadata": {},
          "execution_count": 9
        }
      ]
    },
    {
      "cell_type": "code",
      "metadata": {
        "id": "20b2db9a"
      },
      "source": [
        "# process dataset with spacy pipeline\n",
        "# dataset is pruned to the maximum amount possible in a laptop or desk computer\n",
        "doc = nlp(dataset[:1000000])"
      ],
      "id": "20b2db9a",
      "execution_count": 10,
      "outputs": []
    },
    {
      "cell_type": "markdown",
      "metadata": {
        "id": "cc160094"
      },
      "source": [
        "<a id=\"filtering\"></a>"
      ],
      "id": "cc160094"
    },
    {
      "cell_type": "code",
      "metadata": {
        "id": "b1bae64b"
      },
      "source": [
        "# function designed to refine dataset processing\n",
        "def filter_tokens(doc: spacy.tokens.doc.Doc) -> [spacy.tokens.token.Token]:\n",
        "    def is_target_token(token: spacy.tokens.token.Token) -> bool:\n",
        "        return token.is_alpha and not token.is_stop and len(token.sent) > 10\n",
        "    \n",
        "    return filter(is_target_token, doc)"
      ],
      "id": "b1bae64b",
      "execution_count": 11,
      "outputs": []
    },
    {
      "cell_type": "code",
      "metadata": {
        "id": "5b059a8e"
      },
      "source": [
        "# more dataset preprocessing\n",
        "tokens = filter_tokens(doc)"
      ],
      "id": "5b059a8e",
      "execution_count": 88,
      "outputs": []
    },
    {
      "cell_type": "markdown",
      "metadata": {
        "id": "d4e65182"
      },
      "source": [
        "<a id=\"feature_generation\"></a>"
      ],
      "id": "d4e65182"
    },
    {
      "cell_type": "code",
      "metadata": {
        "id": "00021a43"
      },
      "source": [
        "def feature_generator(\n",
        "    tokens: [spacy.tokens.token.Token],\n",
        "    *, # all remaining arguments should be named\n",
        "    token_threshold: int,\n",
        "    context_threshold: int,\n",
        ") -> dict:\n",
        "    dicc = {}\n",
        "    for token in tokens:\n",
        "        lema = token.lemma_\n",
        "        # reduce dimensionality: discard words with not enough examples\n",
        "        if token._.lemma_count < token_threshold:\n",
        "            continue\n",
        "        # check if some form of this word has been processed before\n",
        "        # or create new dict\n",
        "        features = dicc.get(lema, {})\n",
        "\n",
        "        # create feature based on part of speech for this token\n",
        "        pos = \"POS_\" + token.pos_\n",
        "        # increment feature count\n",
        "        features[pos] = features.get(pos, 0) + 1\n",
        "    \n",
        "        # create feature based on syntactic dependency of token\n",
        "        dep = \"DEP__\" + token.dep_\n",
        "        # increment feature count\n",
        "        features[dep] = features.get(dep, 0) + 1\n",
        "            \n",
        "        # insert context based feature using co-frequence in sentences\n",
        "        for word in token.sent:\n",
        "            if word == token:\n",
        "                continue\n",
        "            # reduce dimensionality: drop unfrequent words\n",
        "            if word._.lemma_count > context_threshold:\n",
        "                if word.like_num:\n",
        "                    context = \"NUM\"\n",
        "                else:\n",
        "                    context = word.lemma_\n",
        "\n",
        "                # increment feature count\n",
        "                features[context] = features.get(context, 0) + 1\n",
        "                \n",
        "        # create feature based on type of entity\n",
        "        if token.ent_type > 0:\n",
        "            ent = \"ENT_\" + token.ent_type_\n",
        "            # increment feature count\n",
        "            features[ent] = features.get(ent, 0) + 1\n",
        "\n",
        "        # create feature based on parent-child dependency\n",
        "        tripla = \"TRIPLA__\" + token.lemma_ + \"__\" + token.dep_ + \"__\" + token.head.lemma_\n",
        "        # increment feature count\n",
        "        features[tripla] = features.get(tripla, 0) + 1\n",
        "\n",
        "        # create feature based on parent-child dependency structure\n",
        "        tripla_struct = \"TRIPLA__\" + token.pos_ + \"__\" + token.dep_ + \"__\" + token.head.pos_\n",
        "        # increment feature count\n",
        "        features[tripla] = features.get(tripla, 0) + 1\n",
        "\n",
        "        # create feature based on ancestor-token-child structure\n",
        "        for ancestor in token.ancestors:\n",
        "          for child in token.children:\n",
        "            tripla_struct = \"ATC_\" + ancestor.pos_ + \"__\" + token.pos_ + \"__\" + child.pos_ \n",
        "            # increment feature count\n",
        "            features[tripla_struct] = features.get(tripla, 0) + 1\n",
        "        \n",
        "        dicc[lema] = features\n",
        "    \n",
        "    return dicc"
      ],
      "id": "00021a43",
      "execution_count": 89,
      "outputs": []
    },
    {
      "cell_type": "code",
      "metadata": {
        "id": "605d95a9"
      },
      "source": [
        "# get {word: features} dictionary\n",
        "dicc = feature_generator(tokens, token_threshold=10, context_threshold=50)"
      ],
      "id": "605d95a9",
      "execution_count": 90,
      "outputs": []
    },
    {
      "cell_type": "markdown",
      "metadata": {
        "id": "f337367d"
      },
      "source": [
        "<a id=\"key_feature_division\"></a>"
      ],
      "id": "f337367d"
    },
    {
      "cell_type": "code",
      "metadata": {
        "id": "efac1e8f"
      },
      "source": [
        "# unpack keys and features in two separated tuples to ease processing\n",
        "(keys, features) = zip(*dicc.items())"
      ],
      "id": "efac1e8f",
      "execution_count": 91,
      "outputs": []
    },
    {
      "cell_type": "markdown",
      "metadata": {
        "id": "3416b8b2"
      },
      "source": [
        "<a id=\"feature_vectorization\"></a>"
      ],
      "id": "3416b8b2"
    },
    {
      "cell_type": "code",
      "metadata": {
        "id": "b0b59882"
      },
      "source": [
        "def vectorize_features(features: (dict)) -> np.ndarray:\n",
        "    vectorized_features = DictVectorizer(sparse=False).fit_transform(features)\n",
        "    return vectorized_features"
      ],
      "id": "b0b59882",
      "execution_count": 92,
      "outputs": []
    },
    {
      "cell_type": "code",
      "metadata": {
        "id": "3506332c"
      },
      "source": [
        "# use sklearn dict vectorizer to create arrays from each set of features\n",
        "vectorized_features = vectorize_features(features)"
      ],
      "id": "3506332c",
      "execution_count": 93,
      "outputs": []
    },
    {
      "cell_type": "markdown",
      "metadata": {
        "id": "86c1115f"
      },
      "source": [
        "<a id=\"feature_normalization\"></a>"
      ],
      "id": "86c1115f"
    },
    {
      "cell_type": "code",
      "metadata": {
        "id": "30753f47"
      },
      "source": [
        "def reduce_matrix(matrix: np.ndarray, *, variance_treshold: float):\n",
        "    print(f'INPUT SHAPE: {matrix.shape}')\n",
        "    # reduce all vectors to [0, 1] space\n",
        "    normalized_matrix = normalize(matrix, axis=1)\n",
        "    # compute variances in each row\n",
        "    matrix_variances = np.var(matrix, axis=0)\n",
        "    # create mask for features with high correlation (low variance)\n",
        "    bool_mask = np.where(matrix_variances < variance_treshold)\n",
        "    # filter features with high correlation (variance under treshold)\n",
        "    raked_matrix = np.delete(normalized_matrix, bool_mask, axis=1)\n",
        "    print(f'OUTPUT SHAPE: {raked_matrix.shape}')\n",
        "    return raked_matrix"
      ],
      "id": "30753f47",
      "execution_count": 94,
      "outputs": []
    },
    {
      "cell_type": "code",
      "metadata": {
        "colab": {
          "base_uri": "https://localhost:8080/"
        },
        "id": "47ea87b6",
        "outputId": "819f1fae-cfe0-4127-f286-87a2d3de2087"
      },
      "source": [
        "reduced_matrix = reduce_matrix(vectorized_features, variance_treshold=0.01)"
      ],
      "id": "47ea87b6",
      "execution_count": 95,
      "outputs": [
        {
          "output_type": "stream",
          "name": "stdout",
          "text": [
            "INPUT SHAPE: (1664, 40531)\n",
            "OUTPUT SHAPE: (1664, 3104)\n"
          ]
        }
      ]
    },
    {
      "cell_type": "markdown",
      "metadata": {
        "id": "1ce93b06"
      },
      "source": [
        "<a id=\"clustering\"></a>"
      ],
      "id": "1ce93b06"
    },
    {
      "cell_type": "markdown",
      "metadata": {
        "id": "e419e0d3"
      },
      "source": [
        "# Clustering"
      ],
      "id": "e419e0d3"
    },
    {
      "cell_type": "code",
      "metadata": {
        "id": "15812dc5"
      },
      "source": [
        "def generate_clusters(\n",
        "    matrix: np.ndarray,\n",
        "    n_clusters: int\n",
        ") -> KMeans:\n",
        "    # generate word clusters using the KMeans algorithm.\n",
        "    print(\"\\nClustering started\")\n",
        "    # Instantiate KMeans clusterer for n_clusters\n",
        "    km_model = KMeans(n_clusters=n_clusters, random_state=3)\n",
        "    # create clusters\n",
        "    km_model.fit(matrix)\n",
        "    print(\"Clustering finished\")\n",
        "    return km_model"
      ],
      "id": "15812dc5",
      "execution_count": 96,
      "outputs": []
    },
    {
      "cell_type": "code",
      "metadata": {
        "colab": {
          "base_uri": "https://localhost:8080/"
        },
        "id": "9772c06a",
        "outputId": "d9bce774-8740-4363-ea18-6bbd492741f6"
      },
      "source": [
        "clusters = generate_clusters(reduced_matrix, 100)"
      ],
      "id": "9772c06a",
      "execution_count": 97,
      "outputs": [
        {
          "output_type": "stream",
          "name": "stdout",
          "text": [
            "\n",
            "Clustering started\n",
            "Clustering finished\n"
          ]
        }
      ]
    },
    {
      "cell_type": "markdown",
      "metadata": {
        "id": "75b63800"
      },
      "source": [
        "# Results"
      ],
      "id": "75b63800"
    },
    {
      "cell_type": "markdown",
      "metadata": {
        "id": "92e4aa91"
      },
      "source": [
        "<a id=\"summary\"></a>"
      ],
      "id": "92e4aa91"
    },
    {
      "cell_type": "code",
      "metadata": {
        "id": "6e022323"
      },
      "source": [
        "def display_summary(clusters: KMeans):\n",
        "    cluster_count = Counter(sorted(clusters.labels_))\n",
        "    for cluster in cluster_count:\n",
        "        print (\"Cluster#\", cluster,\" - Total words:\", cluster_count[cluster])"
      ],
      "id": "6e022323",
      "execution_count": 98,
      "outputs": []
    },
    {
      "cell_type": "code",
      "metadata": {
        "id": "27cb66af",
        "colab": {
          "base_uri": "https://localhost:8080/"
        },
        "outputId": "5c8230f6-ce98-4bc0-c3a0-225ef894a7cb"
      },
      "source": [
        "# show number of words captured by each cluster\n",
        "display_summary(clusters)"
      ],
      "id": "27cb66af",
      "execution_count": 99,
      "outputs": [
        {
          "output_type": "stream",
          "name": "stdout",
          "text": [
            "Cluster# 0  - Total words: 3\n",
            "Cluster# 1  - Total words: 23\n",
            "Cluster# 2  - Total words: 17\n",
            "Cluster# 3  - Total words: 1\n",
            "Cluster# 4  - Total words: 5\n",
            "Cluster# 5  - Total words: 7\n",
            "Cluster# 6  - Total words: 6\n",
            "Cluster# 7  - Total words: 25\n",
            "Cluster# 8  - Total words: 21\n",
            "Cluster# 9  - Total words: 15\n",
            "Cluster# 10  - Total words: 23\n",
            "Cluster# 11  - Total words: 21\n",
            "Cluster# 12  - Total words: 74\n",
            "Cluster# 13  - Total words: 9\n",
            "Cluster# 14  - Total words: 20\n",
            "Cluster# 15  - Total words: 23\n",
            "Cluster# 16  - Total words: 3\n",
            "Cluster# 17  - Total words: 13\n",
            "Cluster# 18  - Total words: 20\n",
            "Cluster# 19  - Total words: 9\n",
            "Cluster# 20  - Total words: 3\n",
            "Cluster# 21  - Total words: 23\n",
            "Cluster# 22  - Total words: 1\n",
            "Cluster# 23  - Total words: 26\n",
            "Cluster# 24  - Total words: 7\n",
            "Cluster# 25  - Total words: 48\n",
            "Cluster# 26  - Total words: 1\n",
            "Cluster# 27  - Total words: 1\n",
            "Cluster# 28  - Total words: 16\n",
            "Cluster# 29  - Total words: 20\n",
            "Cluster# 30  - Total words: 24\n",
            "Cluster# 31  - Total words: 4\n",
            "Cluster# 32  - Total words: 1\n",
            "Cluster# 33  - Total words: 14\n",
            "Cluster# 34  - Total words: 25\n",
            "Cluster# 35  - Total words: 13\n",
            "Cluster# 36  - Total words: 1\n",
            "Cluster# 37  - Total words: 58\n",
            "Cluster# 38  - Total words: 76\n",
            "Cluster# 39  - Total words: 27\n",
            "Cluster# 40  - Total words: 1\n",
            "Cluster# 41  - Total words: 1\n",
            "Cluster# 42  - Total words: 2\n",
            "Cluster# 43  - Total words: 1\n",
            "Cluster# 44  - Total words: 1\n",
            "Cluster# 45  - Total words: 3\n",
            "Cluster# 46  - Total words: 12\n",
            "Cluster# 47  - Total words: 13\n",
            "Cluster# 48  - Total words: 1\n",
            "Cluster# 49  - Total words: 1\n",
            "Cluster# 50  - Total words: 78\n",
            "Cluster# 51  - Total words: 72\n",
            "Cluster# 52  - Total words: 20\n",
            "Cluster# 53  - Total words: 1\n",
            "Cluster# 54  - Total words: 1\n",
            "Cluster# 55  - Total words: 39\n",
            "Cluster# 56  - Total words: 1\n",
            "Cluster# 57  - Total words: 50\n",
            "Cluster# 58  - Total words: 1\n",
            "Cluster# 59  - Total words: 1\n",
            "Cluster# 60  - Total words: 2\n",
            "Cluster# 61  - Total words: 3\n",
            "Cluster# 62  - Total words: 12\n",
            "Cluster# 63  - Total words: 1\n",
            "Cluster# 64  - Total words: 1\n",
            "Cluster# 65  - Total words: 1\n",
            "Cluster# 66  - Total words: 9\n",
            "Cluster# 67  - Total words: 1\n",
            "Cluster# 68  - Total words: 52\n",
            "Cluster# 69  - Total words: 36\n",
            "Cluster# 70  - Total words: 33\n",
            "Cluster# 71  - Total words: 2\n",
            "Cluster# 72  - Total words: 1\n",
            "Cluster# 73  - Total words: 28\n",
            "Cluster# 74  - Total words: 1\n",
            "Cluster# 75  - Total words: 60\n",
            "Cluster# 76  - Total words: 2\n",
            "Cluster# 77  - Total words: 2\n",
            "Cluster# 78  - Total words: 1\n",
            "Cluster# 79  - Total words: 1\n",
            "Cluster# 80  - Total words: 3\n",
            "Cluster# 81  - Total words: 1\n",
            "Cluster# 82  - Total words: 43\n",
            "Cluster# 83  - Total words: 2\n",
            "Cluster# 84  - Total words: 16\n",
            "Cluster# 85  - Total words: 3\n",
            "Cluster# 86  - Total words: 5\n",
            "Cluster# 87  - Total words: 1\n",
            "Cluster# 88  - Total words: 1\n",
            "Cluster# 89  - Total words: 1\n",
            "Cluster# 90  - Total words: 52\n",
            "Cluster# 91  - Total words: 22\n",
            "Cluster# 92  - Total words: 28\n",
            "Cluster# 93  - Total words: 2\n",
            "Cluster# 94  - Total words: 107\n",
            "Cluster# 95  - Total words: 50\n",
            "Cluster# 96  - Total words: 1\n",
            "Cluster# 97  - Total words: 31\n",
            "Cluster# 98  - Total words: 1\n",
            "Cluster# 99  - Total words: 18\n"
          ]
        }
      ]
    },
    {
      "cell_type": "markdown",
      "metadata": {
        "id": "19f8b6c4"
      },
      "source": [
        "<a id=\"results\"></a>"
      ],
      "id": "19f8b6c4"
    },
    {
      "cell_type": "code",
      "metadata": {
        "id": "59293775"
      },
      "source": [
        "def display_clusters(clusters: KMeans, keys: (str)):\n",
        "    cluster_count = Counter(sorted(clusters.labels_))\n",
        "    print(\"Top words per cluster:\\n\")\n",
        "    #sort cluster centers by proximity to centroid\n",
        "    order_centroids = clusters.cluster_centers_.argsort()[:, ::-1] \n",
        "    \n",
        "    for cluster_idx in cluster_count:\n",
        "        print(f\"Cluster {cluster_idx} - Total words: {cluster_count[cluster_idx]}\")\n",
        "        print(\"\\n\\nWords:\", end='')\n",
        "        # get words inside each cluster\n",
        "        cluster_words = np.where(clusters.labels_ == cluster_idx)[0]\n",
        "        # print all words inside cluster\n",
        "        for idx in cluster_words:\n",
        "            print(f\" {keys[idx]}\", end=\",\")\n",
        "        print(\"\\n\\n\")"
      ],
      "id": "59293775",
      "execution_count": 100,
      "outputs": []
    },
    {
      "cell_type": "code",
      "metadata": {
        "id": "DnmWaWfUw8lV"
      },
      "source": [
        "def display_cluster_features(clusters: KMeans, features: (dict)):\n",
        "    cluster_count = Counter(sorted(clusters.labels_))\n",
        "    print(\"Most decisive features for each cluster:\\n\")\n",
        "    #sort cluster centers by proximity to centroid\n",
        "    order_centroids = clusters.cluster_centers_.argsort()[:, ::-1] \n",
        "    \n",
        "    # flatten features dict\n",
        "    flat_features = reduce(lambda x, y: {**x, **y}, features, {})\n",
        "    # get feature keys\n",
        "    feature_keys = list(flat_features.keys())\n",
        "\n",
        "    # iterate over each cluster\n",
        "    for cluster_idx in cluster_count:\n",
        "        print(f\"Cluster {cluster_idx} - Total words: {cluster_count[cluster_idx]}\")\n",
        "        print(\"Frequent terms:\", end='')\n",
        "        # print most determinant features for this cluster\n",
        "        for ind in order_centroids[cluster_idx, :10]:\n",
        "            print(f' {feature_keys[ind]}', end=',')\n",
        "\n",
        "        print(\"\\n\\n\")"
      ],
      "id": "DnmWaWfUw8lV",
      "execution_count": 101,
      "outputs": []
    },
    {
      "cell_type": "code",
      "metadata": {
        "id": "276e2e4a",
        "colab": {
          "base_uri": "https://localhost:8080/"
        },
        "outputId": "fdafaee3-be5a-4007-8732-3850a7bc4a20"
      },
      "source": [
        "display_clusters(clusters, keys)"
      ],
      "id": "276e2e4a",
      "execution_count": 102,
      "outputs": [
        {
          "output_type": "stream",
          "name": "stdout",
          "text": [
            "Top words per cluster:\n",
            "\n",
            "Cluster 0 - Total words: 3\n",
            "\n",
            "\n",
            "Words: armar, añadir, repetir,\n",
            "\n",
            "\n",
            "Cluster 1 - Total words: 23\n",
            "\n",
            "\n",
            "Words: entrada, hogar, censo, feriado, predio, trabajo, texto, palabra, escena, entorno, tendencia, especialista, fenómeno, despacho, muerto, hospital, aula, esquina, justicia, horario, piso, tía, tarifa,\n",
            "\n",
            "\n",
            "Cluster 2 - Total words: 17\n",
            "\n",
            "\n",
            "Words: a, y, estar, o, haber, acerca, mañana, justo, mil, ser, e, ciento, deber, nueve, poder, ambos, cuyo,\n",
            "\n",
            "\n",
            "Cluster 3 - Total words: 1\n",
            "\n",
            "\n",
            "Words: pesar,\n",
            "\n",
            "\n",
            "Cluster 4 - Total words: 5\n",
            "\n",
            "\n",
            "Words: Latinoamérica, Jujuy, Honduras, Venezuela, Cuba,\n",
            "\n",
            "\n",
            "Cluster 5 - Total words: 7\n",
            "\n",
            "\n",
            "Words: Mestre, Perón, Chávez, Edwards, Mario, Vargas, Llosa,\n",
            "\n",
            "\n",
            "Cluster 6 - Total words: 6\n",
            "\n",
            "\n",
            "Words: diverso, distinto, tal, demasiado, semejante, tanto,\n",
            "\n",
            "\n",
            "Cluster 7 - Total words: 25\n",
            "\n",
            "\n",
            "Words: Gobierno, Consejo, Ejecutivo, Justicia, Legislatura, Corte, Congreso, Frente, Cívico, PJ, Peronismo, UCR, Concejo, Plan, Premio, Twitter, PV, Iglesia, Policía, Internet, Clarín, Asamblea, Superior, VIH, Maidana,\n",
            "\n",
            "\n",
            "Cluster 8 - Total words: 21\n",
            "\n",
            "\n",
            "Words: grande, actual, cerrado, cultural, integrado, gratuito, sanitario, ocurrido, federal, libre, siguiente, acompañado, acusado, involucrado, reservado, humano, intenso, tecnológico, imputado, eléctrico, cervecero,\n",
            "\n",
            "\n",
            "Cluster 9 - Total words: 15\n",
            "\n",
            "\n",
            "Words: comunicación, convivencia, reserva, distribución, accidente, minería, circulación, alrededor, puente, ventaja, temporada, mesa, cielo, valle, soldado,\n",
            "\n",
            "\n",
            "Cluster 10 - Total words: 23\n",
            "\n",
            "\n",
            "Words: ayudar, convocar, brindar, cerrar, recurrir, comprometer, enviar, obligar, disponer, presentar él, exigir, romper, hacer él, acusar, dedicar, condenar, investigar, parar, colocar, otorgar, difundir, acudir, financiar,\n",
            "\n",
            "\n",
            "Cluster 11 - Total words: 21\n",
            "\n",
            "\n",
            "Words: representante, responsable, jefe, presidente, director, desarrollo, violencia, salud, titular, directivo, compra, miembro, secretario, delegado, ejecutivo, expresión, ministra, comunidad, protección, garantía, guerrillero,\n",
            "\n",
            "\n",
            "Cluster 12 - Total words: 74\n",
            "\n",
            "\n",
            "Words: mujer, movimiento, problema, razón, interés, victoria, duda, unidad, hijo, adolescente, joven, clase, error, diálogo, chico, situación, espacio, hombre, siglo, pueblo, futuro, padre, asamblea, prueba, dinero, compromiso, hecho, niño, destino, regla, cabeza, servicio, salario, realidad, delito, domicilio, candidato, mensaje, candidatura, cara, conducta, equipo, versión, frente, sueldo, presión, postura, orden, fecha, riesgo, rival, pese, éxito, figura, imagen, peso, policía, materia, testigo, vecino, instrumento, elemento, territorio, dictadura, lista, testimonio, preocupación, ayuda, fracaso, tratamiento, brazo, voz, ataque, músico,\n",
            "\n",
            "\n",
            "Cluster 13 - Total words: 9\n",
            "\n",
            "\n",
            "Words: Ipem, Funes, Nicolás, Alfredo, Francia, Instituto, Garzón, Agulla, Fundación,\n",
            "\n",
            "\n",
            "Cluster 14 - Total words: 20\n",
            "\n",
            "\n",
            "Words: Carbó, Manuel, Alejandro, Jerónimo, Roberto, José, Marina, Martín, Gustavo, Eduardo, Ricardo, Fernando, Juárez, Rafael, Jorge, Sergio, Héctor, Alberto, Raúl, Jaime,\n",
            "\n",
            "\n",
            "Cluster 15 - Total words: 23\n",
            "\n",
            "\n",
            "Words: Marcos, Unión, Interior, Voz, Central, Asociación, Club, Partido, PT, PSDB, Luiz, Fiat, Banco, Diputados, Tribunal, Paraná, Indra, Iberia, Economía, Gabinete, Servicio, Aerolíneas, Minas,\n",
            "\n",
            "\n",
            "Cluster 16 - Total words: 3\n",
            "\n",
            "\n",
            "Words: requerir, dialogar, juzgar,\n",
            "\n",
            "\n",
            "Cluster 17 - Total words: 13\n",
            "\n",
            "\n",
            "Words: definición, sensación, rol, caída, competencia, concepto, afiliado, máquina, explicación, pérdida, funcionamiento, contacto, voluntad,\n",
            "\n",
            "\n",
            "Cluster 18 - Total words: 20\n",
            "\n",
            "\n",
            "Words: comprar, admitir, aportar, rescatar, trasladar, aprender, tocar, competir, desear, aprovechar, restar, gobernar, detener, traer, dormir, padecer, acabar, cobrar, usar, mencionar,\n",
            "\n",
            "\n",
            "Cluster 19 - Total words: 9\n",
            "\n",
            "\n",
            "Words: suficiente, difícil, simple, independiente, probable, razonable, negativo, fundamental, imposible,\n",
            "\n",
            "\n",
            "Cluster 20 - Total words: 3\n",
            "\n",
            "\n",
            "Words: Ciencias, Bonafini, Metas,\n",
            "\n",
            "\n",
            "Cluster 21 - Total words: 23\n",
            "\n",
            "\n",
            "Words: querer, gustar, pensar, leer, creer, decir, mirar, entender, preguntar, confesar, escuchar, apuntar, agregar, consultar, confiar, proponer, prestar, enseñar, escribir, acá, alguien, escapar, Y,\n",
            "\n",
            "\n",
            "Cluster 22 - Total words: 1\n",
            "\n",
            "\n",
            "Words: pasado,\n",
            "\n",
            "\n",
            "Cluster 23 - Total words: 26\n",
            "\n",
            "\n",
            "Words: personal, conjunto, pendiente, docente, blanco, armado, familiar, particular, central, pobre, política, bonaerense, opositor, militar, extremo, inmediato, intelectual, científico, contenido, final, presente, técnico, cualquiera, escrito, contrario, liberal,\n",
            "\n",
            "\n",
            "Cluster 24 - Total words: 7\n",
            "\n",
            "\n",
            "Words: morir, aparecer, ubicar, instalar, fallecer, derivar, jugar,\n",
            "\n",
            "\n",
            "Cluster 25 - Total words: 48\n",
            "\n",
            "\n",
            "Words: aspecto, calidad, exterior, visión, estilo, caso, interior, energía, lugar, profesional, censista, instalación, tiempo, cuerpo, mandato, referente, escenario, documentación, función, socio, corriente, encuentro, esposa, término, intendente, comitiva, fiesta, profesor, vuelta, candidata, identidad, resto, luz, hotel, cierre, edición, agente, sorpresa, guerra, altura, ámbito, canciller, asistencia, secuestro, convenio, gasto, criterio, lector,\n",
            "\n",
            "\n",
            "Cluster 26 - Total words: 1\n",
            "\n",
            "\n",
            "Words: remarcar,\n",
            "\n",
            "\n",
            "Cluster 27 - Total words: 1\n",
            "\n",
            "\n",
            "Words: Aires,\n",
            "\n",
            "\n",
            "Cluster 28 - Total words: 16\n",
            "\n",
            "\n",
            "Words: participar, comunicar, partir, concretar, obtener, vencer, publicar, lanzar, eliminar, reunir, observar, conseguir, circular, reemplazar, ocupar, celebrar,\n",
            "\n",
            "\n",
            "Cluster 29 - Total words: 20\n",
            "\n",
            "\n",
            "Words: refugio, secreto, ciudadanía, designación, movilización, k, ganador, vocero, amparo, obligación, premio, calma, pared, análisis, promesa, sospecha, ordenanza, malestar, concurso, impugnación,\n",
            "\n",
            "\n",
            "Cluster 30 - Total words: 24\n",
            "\n",
            "\n",
            "Words: l, Unidos, Córdoba, Capital, Cruz, Santa, Argentina, San, Cuarto, España, Colón, Alemania, Judicial, Federal, Curitiba, China, Brasilia, Brasil, Chile, Europa, América, Ecuador, Quito, Madrid,\n",
            "\n",
            "\n",
            "Cluster 31 - Total words: 4\n",
            "\n",
            "\n",
            "Words: mantenimiento, pasajero, sucesor, transporte,\n",
            "\n",
            "\n",
            "Cluster 32 - Total words: 1\n",
            "\n",
            "\n",
            "Words: temor,\n",
            "\n",
            "\n",
            "Cluster 33 - Total words: 14\n",
            "\n",
            "\n",
            "Words: justificar, existir, aplicar, utilizar, vender, sacar, debatir, correr, especular, valer, adelantar, regir, acumular, mandar,\n",
            "\n",
            "\n",
            "Cluster 34 - Total words: 25\n",
            "\n",
            "\n",
            "Words: edilicia, estudiantil, democrático, otorgado, sancionado, formal, legal, máximo, judicial, próximo, previsto, edilicio, vial, realizado, urbano, disponible, primero, posible, presunto, aéreo, salarial, polémico, anterior, cordobesa, verdadero,\n",
            "\n",
            "\n",
            "Cluster 35 - Total words: 13\n",
            "\n",
            "\n",
            "Words: septiembre, diciembre, octubre, semana, abril, agosto, marzo, enero, junio, julio, noviembre, mayo, febrero,\n",
            "\n",
            "\n",
            "Cluster 36 - Total words: 1\n",
            "\n",
            "\n",
            "Words: robar,\n",
            "\n",
            "\n",
            "Cluster 37 - Total words: 58\n",
            "\n",
            "\n",
            "Words: miércoles, mejora, reforma, martes, actor, factor, municipio, desafío, viernes, convocatoria, lunes, comercio, terreno, lluvia, intervención, sanción, oficialismo, radicalismo, establecimiento, calle, jueves, crisis, economía, carne, presidenta, industria, decreto, anuncio, economista, institucionalidad, oferta, disputa, expectativa, respaldo, verano, interna, disidente, bloque, fórmula, aplicación, oposición, domingo, superficie, cultura, herramienta, margen, administración, usuario, urna, organismo, boleta, aspirante, aeropuerto, mérito, partida, comicio, edil, novela,\n",
            "\n",
            "\n",
            "Cluster 38 - Total words: 76\n",
            "\n",
            "\n",
            "Words: llevar, descubrir, poner, mantener, levantar, decidir, sumar, iniciar, abrir, firmar, continuar, esperar, reflejar, encabezar, evitar, unir, comenzar, soler, aumentar, incluir, realizar, recuperar, mejorar, figurar, ingresar, preparar, extender, superar, determinar, aprobar, intervenir, cuestionar, proteger, incorporar, caber, resolver, anunciar, terminar, continúar, conformar, contar, avanzar, analizar, reclamar, alcanzar, reducir, frenar, prever, impulsar, marcar, expresar, desconocer, apoyar, insistir, ganar, confirmar, suspender, trascender, ordenar, reforzar, consistir, amenazar, preferir, conducir, causar, subir, entrar, dictar, solicitar, imponer, implementar, adjudicar, coincidir, ratificar, cubrir, controlar,\n",
            "\n",
            "\n",
            "Cluster 39 - Total words: 27\n",
            "\n",
            "\n",
            "Words: dolor, turista, promedio, kilómetro, habitante, productor, carácter, capacidad, ejemplo, volumen, millón, consumo, kilo, contribuyente, colectivo, caudal, localidad, suma, automóvil, fortuna, metro, tramo, ejemplar, isla, gerente, litro, vuelo,\n",
            "\n",
            "\n",
            "Cluster 40 - Total words: 1\n",
            "\n",
            "\n",
            "Words: tercero,\n",
            "\n",
            "\n",
            "Cluster 41 - Total words: 1\n",
            "\n",
            "\n",
            "Words: segundo,\n",
            "\n",
            "\n",
            "Cluster 42 - Total words: 2\n",
            "\n",
            "\n",
            "Words: Cabrera, Janeiro,\n",
            "\n",
            "\n",
            "Cluster 43 - Total words: 1\n",
            "\n",
            "\n",
            "Words: mal,\n",
            "\n",
            "\n",
            "Cluster 44 - Total words: 1\n",
            "\n",
            "\n",
            "Words: Julia,\n",
            "\n",
            "\n",
            "Cluster 45 - Total words: 3\n",
            "\n",
            "\n",
            "Words: Trabajadores, Naciones, Social,\n",
            "\n",
            "\n",
            "Cluster 46 - Total words: 12\n",
            "\n",
            "\n",
            "Words: Provincial, Internacional, Mundial, Nacional, Electoral, Deliberante, Nobel, Inácio, Guerra, Guzmán, Católica, II,\n",
            "\n",
            "\n",
            "Cluster 47 - Total words: 13\n",
            "\n",
            "\n",
            "Words: Sociedad, Comisión, UNC, CTA, Senado, Conare, Fadea, Fuerza, Unasur, OEA, Grupo, Embraer, ETA,\n",
            "\n",
            "\n",
            "Cluster 48 - Total words: 1\n",
            "\n",
            "\n",
            "Words: Walter,\n",
            "\n",
            "\n",
            "Cluster 49 - Total words: 1\n",
            "\n",
            "\n",
            "Words: excepción,\n",
            "\n",
            "\n",
            "Cluster 50 - Total words: 78\n",
            "\n",
            "\n",
            "Words: plazo, ingreso, toma, medida, colegio, ley, escuela, principio, fuerza, lucha, agua, cuestión, causa, protesta, edificio, canal, argumento, posición, información, respuesta, estadística, tema, motivo, visita, derecho, expediente, sector, funcionario, dirigente, norma, legislador, presupuesto, libro, atención, estrategia, idea, recurso, sociedad, mecanismo, mercado, resultado, inflación, crecimiento, aumento, impuesto, democracia, proceso, impacto, salida, voto, gobernador, elección, peronismo, condición, abogado, intención, gremio, fallo, tribunal, kirchnerismo, ausencia, autoridad, detalle, nombre, tarea, noticia, prensa, vía, conducción, minero, fiscal, autor, alumno, turno, magistrado, sentencia, vigencia, monto,\n",
            "\n",
            "\n",
            "Cluster 51 - Total words: 72\n",
            "\n",
            "\n",
            "Words: conocer, lograr, hablar, vivir, seguir, ver, dar él, crecer, faltar, dejar, volver, saber, llegar, llamar, parecer, sorprender, agradecer, comentar, venir, desaparecer, mostrar, aceptar, caminar, pasar, sentir, encontrar, ocurrir, acercar, funcionar, acompañar, comparar, bajar, perder, estudiar, buscar, entregar, dar, negociar, durar, arreglar, negar, identificar, actuar, informar, presentar, ofrecer, hacer, ir, descartar, aspirar, votar, viajar, resultar, regresar, revelar, conceder, recordar, necesitar, olvidar, organizar, acordar, apostar, precisar, asumir, afectar, costar, intentar, importar, disparar, nacer, tirar, beneficiar,\n",
            "\n",
            "\n",
            "Cluster 52 - Total words: 20\n",
            "\n",
            "\n",
            "Words: muerte, triunfo, sala, etapa, prevención, vicepresidente, viaje, parte, dueño, caja, guardia, clima, auto, rubro, camión, récord, bandera, camionero, banda, página,\n",
            "\n",
            "\n",
            "Cluster 53 - Total words: 1\n",
            "\n",
            "\n",
            "Words: modos,\n",
            "\n",
            "\n",
            "Cluster 54 - Total words: 1\n",
            "\n",
            "\n",
            "Words: afuera,\n",
            "\n",
            "\n",
            "Cluster 55 - Total words: 39\n",
            "\n",
            "\n",
            "Words: permanente, importante, completo, rápido, extranjero, menor, preciso, bajo, interesado, largo, real, enorme, contundente, civil, latinoamericano, tranquilo, capaz, elegido, cercano, abierto, pequeño, francés, tercer, directo, efectivo, policial, seguro, comprometido, amplio, determinado, calificado, anual, adicional, venezolano, latino, profundo, nacido, serio, turístico,\n",
            "\n",
            "\n",
            "Cluster 56 - Total words: 1\n",
            "\n",
            "\n",
            "Words: agresión,\n",
            "\n",
            "\n",
            "Cluster 57 - Total words: 50\n",
            "\n",
            "\n",
            "Words: pareja, año, persona, instancia, grupo, mes, nivel, época, memoria, especie, promoción, cantidad, manos, propiedad, minuto, grado, rechazo, nacimiento, estudio, juego, formación, continente, cámara, avance, generación, tipo, jornada, contexto, llegada, arma, prisión, cárcel, decena, balotaje, foto, par, episodio, cifra, carga, consideración, suba, técnica, avión, golpe, intento, porcentaje, oportunidad, basura, preso, fines,\n",
            "\n",
            "\n",
            "Cluster 58 - Total words: 1\n",
            "\n",
            "\n",
            "Words: haber él,\n",
            "\n",
            "\n",
            "Cluster 59 - Total words: 1\n",
            "\n",
            "\n",
            "Words: igual,\n",
            "\n",
            "\n",
            "Cluster 60 - Total words: 2\n",
            "\n",
            "\n",
            "Words: junto, fácil,\n",
            "\n",
            "\n",
            "Cluster 61 - Total words: 3\n",
            "\n",
            "\n",
            "Words: calificar, subrayar, notar,\n",
            "\n",
            "\n",
            "Cluster 62 - Total words: 12\n",
            "\n",
            "\n",
            "Words: seguramente, recién, atrás, allá, finalmente, asimismo, adentro, prácticamente, inmediatamente, anoche, jamás, totalmente,\n",
            "\n",
            "\n",
            "Cluster 63 - Total words: 1\n",
            "\n",
            "\n",
            "Words: evaluar,\n",
            "\n",
            "\n",
            "Cluster 64 - Total words: 1\n",
            "\n",
            "\n",
            "Words: dólares,\n",
            "\n",
            "\n",
            "Cluster 65 - Total words: 1\n",
            "\n",
            "\n",
            "Words: embargo,\n",
            "\n",
            "\n",
            "Cluster 66 - Total words: 9\n",
            "\n",
            "\n",
            "Words: amor, carta, escritor, semáforo, herido, fábrica, militante, roca, emergencia,\n",
            "\n",
            "\n",
            "Cluster 67 - Total words: 1\n",
            "\n",
            "\n",
            "Words: total,\n",
            "\n",
            "\n",
            "Cluster 68 - Total words: 52\n",
            "\n",
            "\n",
            "Words: común, denominado, vinculado, social, mayor, superior, privado, mundial, histórico, negro, radical, básico, mínimo, económico, político, único, previo, administrativo, positivo, claro, comercial, popular, alemán, externo, cuarto, gubernamental, institucional, malo, comunal, peronista, móvil, financiero, grave, brasileño, electrónico, diplomático, detenido, constitucional, chileno, pleno, doble, religioso, fijo, normal, anticipado, médico, académico, ecuatoriano, general, supuesto, ideológico, cautelar,\n",
            "\n",
            "\n",
            "Cluster 69 - Total words: 36\n",
            "\n",
            "\n",
            "Words: refacción, construcción, continuidad, sierra, estancia, inclusión, incendio, corte, trámite, exportación, envío, período, venta, alimento, bien, crédito, corrupción, empresario, limpieza, urgencia, madrugada, vereda, inicio, red, baja, índice, material, directorio, retención, incremento, izquierda, música, grano, entrega, maíz, peaje,\n",
            "\n",
            "\n",
            "Cluster 70 - Total words: 33\n",
            "\n",
            "\n",
            "Words: tratar, elegir, discutir, construir, desarrollar, generar, cumplir, suceder, suponer, implicar, recibir, registrar, ejecutar, surgir, elaborar, provocar, basar, invertir, caer, representar, completar, convertir, detectar, establecer, convertir él, asistir, producir, transmitir, atender, transformar, fortalecer, crear, gastar,\n",
            "\n",
            "\n",
            "Cluster 71 - Total words: 2\n",
            "\n",
            "\n",
            "Words: primario, terciario,\n",
            "\n",
            "\n",
            "Cluster 72 - Total words: 1\n",
            "\n",
            "\n",
            "Words: inaugurar,\n",
            "\n",
            "\n",
            "Cluster 73 - Total words: 28\n",
            "\n",
            "\n",
            "Words: Pedro, Daniel, Grahovac, Cristina, Fernández, Kirchner, Néstor, Juez, Oscar, Aguad, Juan, Micheli, Sota, Schiaretti, Giacomino, Liu, Miguel, Macri, Presidenta, Timerman, Apablaza, Piñera, Sala, Correa, Patiño, Bunge, Campana, Scotto,\n",
            "\n",
            "\n",
            "Cluster 74 - Total words: 1\n",
            "\n",
            "\n",
            "Words: A,\n",
            "\n",
            "\n",
            "Cluster 75 - Total words: 60\n",
            "\n",
            "\n",
            "Words: sostener, asegurar, cambiar, compartir, manejar, tomar, pedir, advertir, empezar, anticipar, salir, quedar, responder, sufrir, respetar, depender, afirmar, declarar, estimar, trabajar, considerar, impedir, corresponder, tener, permitir, explicar, manifestar, definir, fijar, concluir, aclarar, denunciar, formar, pagar, demostrar, ejercer, comprender, plantear, pretender, servir, opinar, destacar, resaltar, significar, enfrentar, indicar, integrar, defender, reconocer, matar, abandonar, cometer, prometer, señalar, contemplar, reiterar, lamentar, criticar, rechazar, procesar,\n",
            "\n",
            "\n",
            "Cluster 76 - Total words: 2\n",
            "\n",
            "\n",
            "Words: acuerdo, manera,\n",
            "\n",
            "\n",
            "Cluster 77 - Total words: 2\n",
            "\n",
            "\n",
            "Words: Manubens, Calvet,\n",
            "\n",
            "\n",
            "Cluster 78 - Total words: 1\n",
            "\n",
            "\n",
            "Words: lado,\n",
            "\n",
            "\n",
            "Cluster 79 - Total words: 1\n",
            "\n",
            "\n",
            "Words: Fe,\n",
            "\n",
            "\n",
            "Cluster 80 - Total words: 3\n",
            "\n",
            "\n",
            "Words: condena, homicidio, robo,\n",
            "\n",
            "\n",
            "Cluster 81 - Total words: 1\n",
            "\n",
            "\n",
            "Words: Monte,\n",
            "\n",
            "\n",
            "Cluster 82 - Total words: 43\n",
            "\n",
            "\n",
            "Words: vida, defensa, declaración, relación, discurso, operativo, consulta, ministro, diario, decisión, dicho, cabo, agencia, denuncia, beneficio, efecto, pobreza, opinión, partido, senador, diputado, líder, trabajador, kirchnerista, integrante, mandatario, fuente, juez, comunicado, nota, raíz, rescate, terminal, conferencia, crimen, hermano, límite, directora, ocasión, amenaza, extradición, sublevación, colega,\n",
            "\n",
            "\n",
            "Cluster 83 - Total words: 2\n",
            "\n",
            "\n",
            "Words: cubano, modo,\n",
            "\n",
            "\n",
            "Cluster 84 - Total words: 16\n",
            "\n",
            "\n",
            "Words: matrimonio, consenso, vista, sol, acceso, novedad, corazón, puerta, alternativa, responsabilidad, conductor, tradición, reconocimiento, nación, dirección, concejal,\n",
            "\n",
            "\n",
            "Cluster 85 - Total words: 3\n",
            "\n",
            "\n",
            "Words: Verde, Democracia, Brasileña,\n",
            "\n",
            "\n",
            "Cluster 86 - Total words: 5\n",
            "\n",
            "\n",
            "Words: Santiago, Bolivia, Colombia, Perú, Uruguay,\n",
            "\n",
            "\n",
            "Cluster 87 - Total words: 1\n",
            "\n",
            "\n",
            "Words: dirigir,\n",
            "\n",
            "\n",
            "Cluster 88 - Total words: 1\n",
            "\n",
            "\n",
            "Words: cruz,\n",
            "\n",
            "\n",
            "Cluster 89 - Total words: 1\n",
            "\n",
            "\n",
            "Words: sobre,\n",
            "\n",
            "\n",
            "Cluster 90 - Total words: 52\n",
            "\n",
            "\n",
            "Words: necesario, secundario, escolar, viejo, fuerte, nacional, internacional, conocido, ubicado, provincial, público, natural, cordobés, oficial, universitario, rural, verde, industrial, educativo, duro, tomado, principal, preventivo, argentino, europeo, dispuesto, interno, alto, especial, llamado, eventual, local, municipal, numeroso, organizado, electoral, mejor, presidencial, oficialista, porteño, partidario, legislativo, estatal, estadounidense, antiguo, similar, español, absoluto, destinado, reciente, laboral, concreto,\n",
            "\n",
            "\n",
            "Cluster 91 - Total words: 22\n",
            "\n",
            "\n",
            "Words: Martínez, Luis, Rodríguez, María, García, Jesús, Carlos, Pablo, Díaz, Hugo, Marcelo, Allende, Silva, Dilma, Rousseff, Serra, Lula, Moreno, Gabriel, López, Gutiérrez, Sosa,\n",
            "\n",
            "\n",
            "Cluster 92 - Total words: 28\n",
            "\n",
            "\n",
            "Words: Educación, Ministerio, Ley, Facultad, Provincia, Nación, Punilla, Plaza, Secretaría, Universidad, Suprema, Casa, Agricultura, Comercio, Servicios, Cámara, Afip, Centro, Epec, Públicos, Municipalidad, Turismo, Filosofía, Tribunales, Julio, Palacio, Fiesta, Bustos,\n",
            "\n",
            "\n",
            "Cluster 93 - Total words: 2\n",
            "\n",
            "\n",
            "Words: tonelada, pesos,\n",
            "\n",
            "\n",
            "Cluster 94 - Total words: 107\n",
            "\n",
            "\n",
            "Words: sentido, proyecto, objetivo, forma, experiencia, institución, sábado, reclamo, anteproyecto, cambio, plan, obra, debate, estudiante, educación, posibilidad, noche, discusión, seguridad, conflicto, acción, infraestructura, propuesta, participación, necesidad, acto, entidad, ciudadano, base, punto, reacción, dato, provincia, presencia, capital, investigación, sistema, gestión, camino, aporte, número, mano, país, mayoría, pregunta, población, diferencia, reunión, mitad, consecuencia, empresa, iniciativa, curso, actividad, informe, comisión, marcha, valor, modelo, negocio, precio, mundo, importancia, presentación, control, campaña, organización, encuesta, demanda, costo, falta, intendentes, línea, agenda, marco, puesto, cargo, paso, gobierno, mediados, deuda, subsidio, favor, agrupación, artículo, medio, fondo, apoyo, programa, víctima, libertad, papel, juicio, mina, pie, confianza, origen, votación, firma, hora, compañía, president, bebé, pedido, resolución, cuenta, práctica,\n",
            "\n",
            "\n",
            "Cluster 95 - Total words: 50\n",
            "\n",
            "\n",
            "Words: edad, centro, barrio, empleado, torno, planta, plaza, década, sitio, departamento, zona, inversión, estructura, ruta, ejecución, área, capacitación, campo, ciudad, producción, norte, fin, avenida, periodista, historia, tránsito, reflexión, producto, pago, sede, meta, evento, delegación, sur, vivienda, régimen, vehículo, investigador, región, camioneta, asesinato, indicador, clave, autopartista, proveedor, soja, operación, carrera, ciclo, grafeno,\n",
            "\n",
            "\n",
            "Cluster 96 - Total words: 1\n",
            "\n",
            "\n",
            "Words: obstante,\n",
            "\n",
            "\n",
            "Cluster 97 - Total words: 31\n",
            "\n",
            "\n",
            "Words: hija, madre, ojo, familia, casa, chica, gracias, suerte, compañero, amigo, visitante, gente, adulto, entrevista, momento, esfuerzo, actitud, movida, vínculo, teléfono, enfermedad, daño, acusación, ejercicio, solución, ambulancia, método, droga, paciente, cosa, comisario,\n",
            "\n",
            "\n",
            "Cluster 98 - Total words: 1\n",
            "\n",
            "\n",
            "Words: miedo,\n",
            "\n",
            "\n",
            "Cluster 99 - Total words: 18\n",
            "\n",
            "\n",
            "Words: Belgrano, Villa, Alta, Gracia, Dirección, Paz, Francisco, Río, Ambiente, República, Escuela, Colegio, Sur, Norte, Circunvalación, Hospital, Calamuchita, México,\n",
            "\n",
            "\n"
          ]
        }
      ]
    },
    {
      "cell_type": "code",
      "metadata": {
        "id": "35605b5a"
      },
      "source": [
        "def search_word_cluster(clusters: KMeans, corpus: (str), searched_word: str) -> [str]:\n",
        "    clusts = clusters.labels_\n",
        "    search_idx = corpus.index(searched_word)\n",
        "    return [word for idx, word in enumerate(corpus, 0) if clusts[search_idx] == clusts[idx]]"
      ],
      "id": "35605b5a",
      "execution_count": 103,
      "outputs": []
    },
    {
      "cell_type": "code",
      "metadata": {
        "id": "f8ef2977",
        "colab": {
          "base_uri": "https://localhost:8080/"
        },
        "outputId": "85b7bb48-7e14-47ba-bcba-7ddcd6500477"
      },
      "source": [
        "search_word_cluster(clusters, keys, 'viernes')"
      ],
      "id": "f8ef2977",
      "execution_count": 104,
      "outputs": [
        {
          "output_type": "execute_result",
          "data": {
            "text/plain": [
              "['miércoles',\n",
              " 'mejora',\n",
              " 'reforma',\n",
              " 'martes',\n",
              " 'actor',\n",
              " 'factor',\n",
              " 'municipio',\n",
              " 'desafío',\n",
              " 'viernes',\n",
              " 'convocatoria',\n",
              " 'lunes',\n",
              " 'comercio',\n",
              " 'terreno',\n",
              " 'lluvia',\n",
              " 'intervención',\n",
              " 'sanción',\n",
              " 'oficialismo',\n",
              " 'radicalismo',\n",
              " 'establecimiento',\n",
              " 'calle',\n",
              " 'jueves',\n",
              " 'crisis',\n",
              " 'economía',\n",
              " 'carne',\n",
              " 'presidenta',\n",
              " 'industria',\n",
              " 'decreto',\n",
              " 'anuncio',\n",
              " 'economista',\n",
              " 'institucionalidad',\n",
              " 'oferta',\n",
              " 'disputa',\n",
              " 'expectativa',\n",
              " 'respaldo',\n",
              " 'verano',\n",
              " 'interna',\n",
              " 'disidente',\n",
              " 'bloque',\n",
              " 'fórmula',\n",
              " 'aplicación',\n",
              " 'oposición',\n",
              " 'domingo',\n",
              " 'superficie',\n",
              " 'cultura',\n",
              " 'herramienta',\n",
              " 'margen',\n",
              " 'administración',\n",
              " 'usuario',\n",
              " 'urna',\n",
              " 'organismo',\n",
              " 'boleta',\n",
              " 'aspirante',\n",
              " 'aeropuerto',\n",
              " 'mérito',\n",
              " 'partida',\n",
              " 'comicio',\n",
              " 'edil',\n",
              " 'novela']"
            ]
          },
          "metadata": {},
          "execution_count": 104
        }
      ]
    },
    {
      "cell_type": "code",
      "metadata": {
        "id": "UydcEoy8LhWd",
        "colab": {
          "base_uri": "https://localhost:8080/"
        },
        "outputId": "2efe7f77-ea86-4419-d506-922600f707cb"
      },
      "source": [
        "search_word_cluster(clusters, keys, 'Brasil')"
      ],
      "id": "UydcEoy8LhWd",
      "execution_count": 105,
      "outputs": [
        {
          "output_type": "execute_result",
          "data": {
            "text/plain": [
              "['l',\n",
              " 'Unidos',\n",
              " 'Córdoba',\n",
              " 'Capital',\n",
              " 'Cruz',\n",
              " 'Santa',\n",
              " 'Argentina',\n",
              " 'San',\n",
              " 'Cuarto',\n",
              " 'España',\n",
              " 'Colón',\n",
              " 'Alemania',\n",
              " 'Judicial',\n",
              " 'Federal',\n",
              " 'Curitiba',\n",
              " 'China',\n",
              " 'Brasilia',\n",
              " 'Brasil',\n",
              " 'Chile',\n",
              " 'Europa',\n",
              " 'América',\n",
              " 'Ecuador',\n",
              " 'Quito',\n",
              " 'Madrid']"
            ]
          },
          "metadata": {},
          "execution_count": 105
        }
      ]
    },
    {
      "cell_type": "code",
      "metadata": {
        "id": "r7HTLzayLqr4",
        "colab": {
          "base_uri": "https://localhost:8080/"
        },
        "outputId": "f4cdf08c-687a-4d71-9aeb-e9ff4fa399d6"
      },
      "source": [
        "search_word_cluster(clusters, keys, 'Sota')"
      ],
      "id": "r7HTLzayLqr4",
      "execution_count": 106,
      "outputs": [
        {
          "output_type": "execute_result",
          "data": {
            "text/plain": [
              "['Pedro',\n",
              " 'Daniel',\n",
              " 'Grahovac',\n",
              " 'Cristina',\n",
              " 'Fernández',\n",
              " 'Kirchner',\n",
              " 'Néstor',\n",
              " 'Juez',\n",
              " 'Oscar',\n",
              " 'Aguad',\n",
              " 'Juan',\n",
              " 'Micheli',\n",
              " 'Sota',\n",
              " 'Schiaretti',\n",
              " 'Giacomino',\n",
              " 'Liu',\n",
              " 'Miguel',\n",
              " 'Macri',\n",
              " 'Presidenta',\n",
              " 'Timerman',\n",
              " 'Apablaza',\n",
              " 'Piñera',\n",
              " 'Sala',\n",
              " 'Correa',\n",
              " 'Patiño',\n",
              " 'Bunge',\n",
              " 'Campana',\n",
              " 'Scotto']"
            ]
          },
          "metadata": {},
          "execution_count": 106
        }
      ]
    },
    {
      "cell_type": "code",
      "metadata": {
        "id": "5dtIB2HPL0NW",
        "colab": {
          "base_uri": "https://localhost:8080/"
        },
        "outputId": "000e47ab-3944-4054-bee9-5bda2ee81f86"
      },
      "source": [
        "search_word_cluster(clusters, keys, 'Facultad')"
      ],
      "id": "5dtIB2HPL0NW",
      "execution_count": 107,
      "outputs": [
        {
          "output_type": "execute_result",
          "data": {
            "text/plain": [
              "['Educación',\n",
              " 'Ministerio',\n",
              " 'Ley',\n",
              " 'Facultad',\n",
              " 'Provincia',\n",
              " 'Nación',\n",
              " 'Punilla',\n",
              " 'Plaza',\n",
              " 'Secretaría',\n",
              " 'Universidad',\n",
              " 'Suprema',\n",
              " 'Casa',\n",
              " 'Agricultura',\n",
              " 'Comercio',\n",
              " 'Servicios',\n",
              " 'Cámara',\n",
              " 'Afip',\n",
              " 'Centro',\n",
              " 'Epec',\n",
              " 'Públicos',\n",
              " 'Municipalidad',\n",
              " 'Turismo',\n",
              " 'Filosofía',\n",
              " 'Tribunales',\n",
              " 'Julio',\n",
              " 'Palacio',\n",
              " 'Fiesta',\n",
              " 'Bustos']"
            ]
          },
          "metadata": {},
          "execution_count": 107
        }
      ]
    },
    {
      "cell_type": "code",
      "metadata": {
        "id": "QGzvrHqZMCpi",
        "colab": {
          "base_uri": "https://localhost:8080/"
        },
        "outputId": "a701563a-a0a0-4d67-bebd-31ba6b8d2e7d"
      },
      "source": [
        "search_word_cluster(clusters, keys, 'colegio')"
      ],
      "id": "QGzvrHqZMCpi",
      "execution_count": 108,
      "outputs": [
        {
          "output_type": "execute_result",
          "data": {
            "text/plain": [
              "['plazo',\n",
              " 'ingreso',\n",
              " 'toma',\n",
              " 'medida',\n",
              " 'colegio',\n",
              " 'ley',\n",
              " 'escuela',\n",
              " 'principio',\n",
              " 'fuerza',\n",
              " 'lucha',\n",
              " 'agua',\n",
              " 'cuestión',\n",
              " 'causa',\n",
              " 'protesta',\n",
              " 'edificio',\n",
              " 'canal',\n",
              " 'argumento',\n",
              " 'posición',\n",
              " 'información',\n",
              " 'respuesta',\n",
              " 'estadística',\n",
              " 'tema',\n",
              " 'motivo',\n",
              " 'visita',\n",
              " 'derecho',\n",
              " 'expediente',\n",
              " 'sector',\n",
              " 'funcionario',\n",
              " 'dirigente',\n",
              " 'norma',\n",
              " 'legislador',\n",
              " 'presupuesto',\n",
              " 'libro',\n",
              " 'atención',\n",
              " 'estrategia',\n",
              " 'idea',\n",
              " 'recurso',\n",
              " 'sociedad',\n",
              " 'mecanismo',\n",
              " 'mercado',\n",
              " 'resultado',\n",
              " 'inflación',\n",
              " 'crecimiento',\n",
              " 'aumento',\n",
              " 'impuesto',\n",
              " 'democracia',\n",
              " 'proceso',\n",
              " 'impacto',\n",
              " 'salida',\n",
              " 'voto',\n",
              " 'gobernador',\n",
              " 'elección',\n",
              " 'peronismo',\n",
              " 'condición',\n",
              " 'abogado',\n",
              " 'intención',\n",
              " 'gremio',\n",
              " 'fallo',\n",
              " 'tribunal',\n",
              " 'kirchnerismo',\n",
              " 'ausencia',\n",
              " 'autoridad',\n",
              " 'detalle',\n",
              " 'nombre',\n",
              " 'tarea',\n",
              " 'noticia',\n",
              " 'prensa',\n",
              " 'vía',\n",
              " 'conducción',\n",
              " 'minero',\n",
              " 'fiscal',\n",
              " 'autor',\n",
              " 'alumno',\n",
              " 'turno',\n",
              " 'magistrado',\n",
              " 'sentencia',\n",
              " 'vigencia',\n",
              " 'monto']"
            ]
          },
          "metadata": {},
          "execution_count": 108
        }
      ]
    },
    {
      "cell_type": "code",
      "metadata": {
        "colab": {
          "base_uri": "https://localhost:8080/"
        },
        "id": "340Mwq2OG9Em",
        "outputId": "fb2e887f-3d50-42ae-da62-b8bc20237f40"
      },
      "source": [
        "search_word_cluster(clusters, keys, 'sábado')"
      ],
      "id": "340Mwq2OG9Em",
      "execution_count": 120,
      "outputs": [
        {
          "output_type": "execute_result",
          "data": {
            "text/plain": [
              "['sentido',\n",
              " 'proyecto',\n",
              " 'objetivo',\n",
              " 'forma',\n",
              " 'experiencia',\n",
              " 'institución',\n",
              " 'sábado',\n",
              " 'reclamo',\n",
              " 'anteproyecto',\n",
              " 'cambio',\n",
              " 'plan',\n",
              " 'obra',\n",
              " 'debate',\n",
              " 'estudiante',\n",
              " 'educación',\n",
              " 'posibilidad',\n",
              " 'noche',\n",
              " 'discusión',\n",
              " 'seguridad',\n",
              " 'conflicto',\n",
              " 'acción',\n",
              " 'infraestructura',\n",
              " 'propuesta',\n",
              " 'participación',\n",
              " 'necesidad',\n",
              " 'acto',\n",
              " 'entidad',\n",
              " 'ciudadano',\n",
              " 'base',\n",
              " 'punto',\n",
              " 'reacción',\n",
              " 'dato',\n",
              " 'provincia',\n",
              " 'presencia',\n",
              " 'capital',\n",
              " 'investigación',\n",
              " 'sistema',\n",
              " 'gestión',\n",
              " 'camino',\n",
              " 'aporte',\n",
              " 'número',\n",
              " 'mano',\n",
              " 'país',\n",
              " 'mayoría',\n",
              " 'pregunta',\n",
              " 'población',\n",
              " 'diferencia',\n",
              " 'reunión',\n",
              " 'mitad',\n",
              " 'consecuencia',\n",
              " 'empresa',\n",
              " 'iniciativa',\n",
              " 'curso',\n",
              " 'actividad',\n",
              " 'informe',\n",
              " 'comisión',\n",
              " 'marcha',\n",
              " 'valor',\n",
              " 'modelo',\n",
              " 'negocio',\n",
              " 'precio',\n",
              " 'mundo',\n",
              " 'importancia',\n",
              " 'presentación',\n",
              " 'control',\n",
              " 'campaña',\n",
              " 'organización',\n",
              " 'encuesta',\n",
              " 'demanda',\n",
              " 'costo',\n",
              " 'falta',\n",
              " 'intendentes',\n",
              " 'línea',\n",
              " 'agenda',\n",
              " 'marco',\n",
              " 'puesto',\n",
              " 'cargo',\n",
              " 'paso',\n",
              " 'gobierno',\n",
              " 'mediados',\n",
              " 'deuda',\n",
              " 'subsidio',\n",
              " 'favor',\n",
              " 'agrupación',\n",
              " 'artículo',\n",
              " 'medio',\n",
              " 'fondo',\n",
              " 'apoyo',\n",
              " 'programa',\n",
              " 'víctima',\n",
              " 'libertad',\n",
              " 'papel',\n",
              " 'juicio',\n",
              " 'mina',\n",
              " 'pie',\n",
              " 'confianza',\n",
              " 'origen',\n",
              " 'votación',\n",
              " 'firma',\n",
              " 'hora',\n",
              " 'compañía',\n",
              " 'president',\n",
              " 'bebé',\n",
              " 'pedido',\n",
              " 'resolución',\n",
              " 'cuenta',\n",
              " 'práctica']"
            ]
          },
          "metadata": {},
          "execution_count": 120
        }
      ]
    },
    {
      "cell_type": "code",
      "metadata": {
        "id": "478a437a"
      },
      "source": [
        "def in_same_cluster(clusters: KMeans, corpus: (str), words: [str]) -> bool:\n",
        "    clusts = clusters.labels_\n",
        "    word_clusters = map(lambda w: clusts[corpus.index(w)], words)\n",
        "    number_of_clusters = len(set(word_clusters))\n",
        "    return number_of_clusters <= 1"
      ],
      "id": "478a437a",
      "execution_count": 121,
      "outputs": []
    },
    {
      "cell_type": "code",
      "metadata": {
        "id": "940c226a",
        "colab": {
          "base_uri": "https://localhost:8080/"
        },
        "outputId": "8e8d5c27-5dfa-4f54-e5c4-513c1949d01e"
      },
      "source": [
        "in_same_cluster(clusters, keys, ['lunes', 'martes', 'jueves', 'viernes', 'domingo'])"
      ],
      "id": "940c226a",
      "execution_count": 122,
      "outputs": [
        {
          "output_type": "execute_result",
          "data": {
            "text/plain": [
              "True"
            ]
          },
          "metadata": {},
          "execution_count": 122
        }
      ]
    },
    {
      "cell_type": "markdown",
      "metadata": {
        "id": "MUoVsV-FNFO2"
      },
      "source": [
        "# Clustering with word embeddings"
      ],
      "id": "MUoVsV-FNFO2"
    },
    {
      "cell_type": "code",
      "metadata": {
        "id": "fqd1-4CB53NW"
      },
      "source": [
        "# load trained model from spacy\n",
        "nlp = spacy.load(\"es_core_news_md\")"
      ],
      "id": "fqd1-4CB53NW",
      "execution_count": 123,
      "outputs": []
    },
    {
      "cell_type": "code",
      "metadata": {
        "colab": {
          "base_uri": "https://localhost:8080/"
        },
        "id": "FfFB2rE-5Yci",
        "outputId": "2a8d911e-1b4f-451e-8680-5a1f60a78678"
      },
      "source": [
        "# show pipeline steps\n",
        "nlp.pipe_names"
      ],
      "id": "FfFB2rE-5Yci",
      "execution_count": 124,
      "outputs": [
        {
          "output_type": "execute_result",
          "data": {
            "text/plain": [
              "['tok2vec', 'morphologizer', 'parser', 'attribute_ruler', 'lemmatizer', 'ner']"
            ]
          },
          "metadata": {},
          "execution_count": 124
        }
      ]
    },
    {
      "cell_type": "code",
      "metadata": {
        "id": "R0_6F-IK9mAx"
      },
      "source": [
        "# process dataset with spacy pipeline\n",
        "# dataset is pruned to the maximum amount possible in a laptop or desk computer\n",
        "# disable ner and parser for speed\n",
        "with nlp.select_pipes(disable=[\"ner\"]):\n",
        "  doc = nlp(dataset[:1000000])"
      ],
      "id": "R0_6F-IK9mAx",
      "execution_count": 125,
      "outputs": []
    },
    {
      "cell_type": "code",
      "metadata": {
        "id": "l5KBGzMOLKRI"
      },
      "source": [
        "# function designed to refine dataset processing\n",
        "def filter_tokens_in_sent(sent: spacy.tokens.span.Span) -> [spacy.tokens.token.Token]:\n",
        "    def is_target_token(token: spacy.tokens.token.Token) -> bool:\n",
        "        return token.is_alpha and not token.is_stop\n",
        "    \n",
        "    return filter(is_target_token, sent)"
      ],
      "id": "l5KBGzMOLKRI",
      "execution_count": 126,
      "outputs": []
    },
    {
      "cell_type": "code",
      "metadata": {
        "id": "G_l89e-fM0N8"
      },
      "source": [
        "def lemmatize(token: spacy.tokens.token.Token) -> str:\n",
        "  return token.lemma_"
      ],
      "id": "G_l89e-fM0N8",
      "execution_count": 127,
      "outputs": []
    },
    {
      "cell_type": "code",
      "metadata": {
        "id": "8M1uegxuMJL3"
      },
      "source": [
        "def filter_sents(doc: spacy.tokens.doc.Doc) -> [[str]]:\n",
        "  sents = []\n",
        "  for sent in doc.sents:\n",
        "      sent_tokens = filter_tokens_in_sent(sent)\n",
        "      sents.append(list(map(lemmatize, sent_tokens)))\n",
        "  return sents"
      ],
      "id": "8M1uegxuMJL3",
      "execution_count": 128,
      "outputs": []
    },
    {
      "cell_type": "code",
      "metadata": {
        "id": "7ROI1NiyO_Gh"
      },
      "source": [
        "def generate_embedding(sentences: [[str]]) -> ([str], np.ndarray):\n",
        "  # Count the number of cores in a computer\n",
        "  cores = multiprocessing.cpu_count()\n",
        "  w2v_model = Word2Vec(\n",
        "                     min_count=20,\n",
        "                     window=2,\n",
        "                     #size=300,\n",
        "                     sample=6e-5, \n",
        "                     alpha=0.03, \n",
        "                     min_alpha=0.0007, \n",
        "                     negative=20,\n",
        "                     workers=cores-1)\n",
        "\n",
        "  w2v_model.build_vocab(sentences, progress_per=10000)\n",
        "\n",
        "  w2v_model.train(sentences, total_examples=w2v_model.corpus_count, epochs=30, report_delay=1)\n",
        "\n",
        "  words = w2v_model.wv.index_to_key\n",
        "  normed_vectors = w2v_model.wv.get_normed_vectors()\n",
        "\n",
        "  return (words, normed_vectors)"
      ],
      "id": "7ROI1NiyO_Gh",
      "execution_count": 129,
      "outputs": []
    },
    {
      "cell_type": "code",
      "metadata": {
        "id": "3w2MjTVhNIPr"
      },
      "source": [
        "words, normed_vectors = generate_embedding(filter_sents(doc))"
      ],
      "id": "3w2MjTVhNIPr",
      "execution_count": 130,
      "outputs": []
    },
    {
      "cell_type": "code",
      "metadata": {
        "colab": {
          "base_uri": "https://localhost:8080/"
        },
        "id": "c6LHQPxhQ17T",
        "outputId": "c179fe04-72a7-4b55-e932-56dca198d229"
      },
      "source": [
        "clusters = generate_clusters(normed_vectors, 45)"
      ],
      "id": "c6LHQPxhQ17T",
      "execution_count": 131,
      "outputs": [
        {
          "output_type": "stream",
          "name": "stdout",
          "text": [
            "\n",
            "Clustering started\n",
            "Clustering finished\n"
          ]
        }
      ]
    },
    {
      "cell_type": "code",
      "metadata": {
        "colab": {
          "base_uri": "https://localhost:8080/"
        },
        "id": "UDeXcS8KRRVp",
        "outputId": "17f03541-0133-4f8e-9883-2079119f000a"
      },
      "source": [
        "display_summary(clusters)"
      ],
      "id": "UDeXcS8KRRVp",
      "execution_count": 132,
      "outputs": [
        {
          "output_type": "stream",
          "name": "stdout",
          "text": [
            "Cluster# 0  - Total words: 10\n",
            "Cluster# 1  - Total words: 56\n",
            "Cluster# 2  - Total words: 22\n",
            "Cluster# 3  - Total words: 15\n",
            "Cluster# 4  - Total words: 24\n",
            "Cluster# 5  - Total words: 8\n",
            "Cluster# 6  - Total words: 35\n",
            "Cluster# 7  - Total words: 24\n",
            "Cluster# 8  - Total words: 20\n",
            "Cluster# 9  - Total words: 3\n",
            "Cluster# 10  - Total words: 17\n",
            "Cluster# 11  - Total words: 5\n",
            "Cluster# 12  - Total words: 12\n",
            "Cluster# 13  - Total words: 5\n",
            "Cluster# 14  - Total words: 17\n",
            "Cluster# 15  - Total words: 21\n",
            "Cluster# 16  - Total words: 40\n",
            "Cluster# 17  - Total words: 35\n",
            "Cluster# 18  - Total words: 4\n",
            "Cluster# 19  - Total words: 27\n",
            "Cluster# 20  - Total words: 8\n",
            "Cluster# 21  - Total words: 12\n",
            "Cluster# 22  - Total words: 1\n",
            "Cluster# 23  - Total words: 31\n",
            "Cluster# 24  - Total words: 5\n",
            "Cluster# 25  - Total words: 60\n",
            "Cluster# 26  - Total words: 18\n",
            "Cluster# 27  - Total words: 1\n",
            "Cluster# 28  - Total words: 2\n",
            "Cluster# 29  - Total words: 40\n",
            "Cluster# 30  - Total words: 21\n",
            "Cluster# 31  - Total words: 17\n",
            "Cluster# 32  - Total words: 2\n",
            "Cluster# 33  - Total words: 40\n",
            "Cluster# 34  - Total words: 1\n",
            "Cluster# 35  - Total words: 19\n",
            "Cluster# 36  - Total words: 25\n",
            "Cluster# 37  - Total words: 28\n",
            "Cluster# 38  - Total words: 20\n",
            "Cluster# 39  - Total words: 9\n",
            "Cluster# 40  - Total words: 10\n",
            "Cluster# 41  - Total words: 2\n",
            "Cluster# 42  - Total words: 1\n",
            "Cluster# 43  - Total words: 37\n",
            "Cluster# 44  - Total words: 9\n"
          ]
        }
      ]
    },
    {
      "cell_type": "code",
      "metadata": {
        "colab": {
          "base_uri": "https://localhost:8080/"
        },
        "id": "yV-RMD_OTP9m",
        "outputId": "cce976b9-34a8-4e1d-e2ce-0e7bb13fdb72"
      },
      "source": [
        "display_clusters(clusters, words)"
      ],
      "id": "yV-RMD_OTP9m",
      "execution_count": 133,
      "outputs": [
        {
          "output_type": "stream",
          "name": "stdout",
          "text": [
            "Top words per cluster:\n",
            "\n",
            "Cluster 0 - Total words: 10\n",
            "\n",
            "\n",
            "Words: decidir, Capital, privado, septiembre, localidad, educativo, Paz, continuar, morir, plaza,\n",
            "\n",
            "\n",
            "Cluster 1 - Total words: 56\n",
            "\n",
            "\n",
            "Words: y, a, año, mil, nacional, María, dejar, mundo, importante, producir, generar, incluir, nivel, pensar, vuelo, víctima, Santa, kilómetro, casa, Unidos, funcionar, resto, agosto, avenida, firma, pareja, inflación, central, norte, función, vivienda, nacer, metro, cubrir, red, obstante, muerto, auto, avión, oportunidad, camión, marcar, departamento, servir, Cruz, importancia, imponer, edad, Perú, blanco, gustar, Alta, salario, proponer, Turismo, Colón,\n",
            "\n",
            "\n",
            "Cluster 2 - Total words: 22\n",
            "\n",
            "\n",
            "Words: Villa, Carlos, Cámara, empresario, destacar, sufrir, Nobel, discusión, director, anunciar, empezar, premio, municipal, conocido, verano, compañía, extremo, noviembre, lugar, cuestionar, opinión, entrar,\n",
            "\n",
            "\n",
            "Cluster 3 - Total words: 15\n",
            "\n",
            "\n",
            "Words: electrónico, caer, legislador, conocer, capital, llamado, enero, superar, personal, investigación, impulsar, diciembre, positivo, imputado, defender,\n",
            "\n",
            "\n",
            "Cluster 4 - Total words: 24\n",
            "\n",
            "\n",
            "Words: pasar, decisión, jefe, posibilidad, gente, internacional, utilizar, difícil, urna, realidad, oposición, camino, declarar, interior, Tribunal, indicar, apoyar, experiencia, ayudar, acusar, informar, rechazar, efecto, análisis,\n",
            "\n",
            "\n",
            "Cluster 5 - Total words: 8\n",
            "\n",
            "\n",
            "Words: Dilma, Rousseff, Serra, PT, candidata, Marina, PSDB, balotaje,\n",
            "\n",
            "\n",
            "Cluster 6 - Total words: 35\n",
            "\n",
            "\n",
            "Words: ciudad, comenzar, alto, centro, institución, hacer, plantear, frente, ingreso, riesgo, futuro, vecino, necesitar, agua, mano, fiesta, marcha, operativo, impacto, sacar, denunciar, serio, impedir, abierto, muerte, faltar, semáforo, soler, campo, negar, grave, cabo, afirmar, ordenar, juego,\n",
            "\n",
            "\n",
            "Cluster 7 - Total words: 24\n",
            "\n",
            "\n",
            "Words: deber, plan, esperar, salir, distinto, buscar, suceder, Nación, número, Rodríguez, mandatario, modelo, asistir, compromiso, Ricardo, Francisco, directo, puerta, recuperar, mitad, provocar, compartir, Concejo, corriente,\n",
            "\n",
            "\n",
            "Cluster 8 - Total words: 20\n",
            "\n",
            "\n",
            "Words: Córdoba, proyecto, cordobés, Provincia, ruta, pagar, brasileño, lunes, estudio, área, entregar, habitante, registrar, julio, construcción, par, Municipalidad, Jorge, suerte, revelar,\n",
            "\n",
            "\n",
            "Cluster 9 - Total words: 3\n",
            "\n",
            "\n",
            "Words: Luis, Jerónimo, Carbó,\n",
            "\n",
            "\n",
            "Cluster 10 - Total words: 17\n",
            "\n",
            "\n",
            "Words: provincia, quedar, sumar, barrio, Afip, edificio, cifra, insistir, representar, informe, aula, atención, Legislatura, cuerpo, rescate, suba, depender,\n",
            "\n",
            "\n",
            "Cluster 11 - Total words: 5\n",
            "\n",
            "\n",
            "Words: Belgrano, Ipem, Alejandro, Escuela, Garzón,\n",
            "\n",
            "\n",
            "Cluster 12 - Total words: 12\n",
            "\n",
            "\n",
            "Words: haber, argentino, destino, sede, saber, demostrar, entidad, pretender, significar, aportar, accidente, inmediato,\n",
            "\n",
            "\n",
            "Cluster 13 - Total words: 5\n",
            "\n",
            "\n",
            "Words: voto, José, elegir, oficialista, Social,\n",
            "\n",
            "\n",
            "Cluster 14 - Total words: 17\n",
            "\n",
            "\n",
            "Words: Justicia, política, sistema, hijo, llamar, económico, sociedad, golpe, organización, región, democrático, orden, delito, respetar, administración, daño, cercano,\n",
            "\n",
            "\n",
            "Cluster 15 - Total words: 21\n",
            "\n",
            "\n",
            "Words: o, empresa, Argentina, presentar, medio, noche, recordar, seguridad, implicar, resolver, perder, avanzar, artículo, anticipar, institucional, leer, Asociación, organizar, precisar, base, tiempo,\n",
            "\n",
            "\n",
            "Cluster 16 - Total words: 40\n",
            "\n",
            "\n",
            "Words: persona, venir, e, lograr, pedir, querer, encontrar, cambio, joven, Policía, información, falta, atrás, fiscal, hecho, libro, respuesta, chileno, violencia, acusado, familiar, control, España, nombre, compañero, roca, desarrollar, capacidad, crimen, real, versión, detenido, estimar, mejora, asesinato, correr, negocio, determinar, autor, Juárez,\n",
            "\n",
            "\n",
            "Cluster 17 - Total words: 35\n",
            "\n",
            "\n",
            "Words: provincial, caso, medida, mantener, realizar, mañana, tener, ministro, plazo, resultar, miembro, médico, iniciar, actual, Universidad, máximo, ingresar, Ejecutivo, encuentro, Suprema, adolescente, subsidio, concreto, aporte, requerir, aprobar, noticia, ofrecer, otorgar, cautelar, intervención, amigo, materia, prever, capacitación,\n",
            "\n",
            "\n",
            "Cluster 18 - Total words: 4\n",
            "\n",
            "\n",
            "Words: Lula, vuelta, Trabajadores, Verde,\n",
            "\n",
            "\n",
            "Cluster 19 - Total words: 27\n",
            "\n",
            "\n",
            "Words: gobernador, elección, San, candidato, Brasil, poner, Río, campaña, fuerza, punto, Pablo, presidencial, historia, apoyo, votar, Casa, domingo, admitir, obtener, diferencia, turno, surgir, respaldo, clave, alguien, dictadura, romper,\n",
            "\n",
            "\n",
            "Cluster 20 - Total words: 8\n",
            "\n",
            "\n",
            "Words: Kirchner, Fernández, Cristina, carne, canciller, extradición, Alemania, encabezar,\n",
            "\n",
            "\n",
            "Cluster 21 - Total words: 12\n",
            "\n",
            "\n",
            "Words: semana, público, Nacional, recurso, inversión, aumentar, producción, deuda, corresponder, reconocer, promedio, probable,\n",
            "\n",
            "\n",
            "Cluster 22 - Total words: 1\n",
            "\n",
            "\n",
            "Words: Cabrera,\n",
            "\n",
            "\n",
            "Cluster 23 - Total words: 31\n",
            "\n",
            "\n",
            "Words: Juan, Schiaretti, forma, electoral, objetivo, debate, democracia, juez, titular, resultado, libertad, responder, crisis, pese, aumento, década, militar, principio, vehículo, consecuencia, conjunto, conducción, próximo, vial, cerrar, unidad, dinero, avance, ecuatoriano, latino, líder,\n",
            "\n",
            "\n",
            "Cluster 24 - Total words: 5\n",
            "\n",
            "\n",
            "Words: ciento, millón, pesos, dólares, tonelada,\n",
            "\n",
            "\n",
            "Cluster 25 - Total words: 60\n",
            "\n",
            "\n",
            "Words: mes, llegar, obra, sector, único, estar, oficial, asegurar, vivir, precio, fondo, acto, proceso, cuestión, sentido, zona, tipo, local, familia, hombre, niño, desarrollo, abrir, posición, minero, considerar, similar, municipio, espacio, población, crecer, abogado, necesario, entender, duda, construir, comunicado, siglo, formar, explicar, hora, corte, lucha, ataque, presentación, madre, remarcar, reducir, ser, trabajo, civil, costar, previo, kirchnerista, factor, prometer, Fadea, desafío, chica, amenaza,\n",
            "\n",
            "\n",
            "Cluster 26 - Total words: 18\n",
            "\n",
            "\n",
            "Words: partido, principal, ir, tema, peronismo, aplicar, tribunal, enviar, radical, aclarar, kirchnerismo, opositor, Congreso, Eduardo, federal, comicio, enfrentar, meta,\n",
            "\n",
            "\n",
            "Cluster 27 - Total words: 1\n",
            "\n",
            "\n",
            "Words: Vargas,\n",
            "\n",
            "\n",
            "Cluster 28 - Total words: 2\n",
            "\n",
            "\n",
            "Words: Ministerio, Voz,\n",
            "\n",
            "\n",
            "Cluster 29 - Total words: 40\n",
            "\n",
            "\n",
            "Words: Gobierno, político, ver, intendente, hablar, dirigente, octubre, interno, fuerte, senador, PJ, Unión, denuncia, Giacomino, estrategia, Epec, sentir, diputado, interna, pueblo, exigir, preguntar, confianza, reclamar, votación, definir, peronista, presencia, opinar, escenario, Plan, aceptar, mínimo, UCR, esposa, Piñera, Frente, Sala, ocupar, Oscar,\n",
            "\n",
            "\n",
            "Cluster 30 - Total words: 21\n",
            "\n",
            "\n",
            "Words: recibir, volver, situación, ocurrir, Chile, subir, declaración, marco, trabajador, propuesta, Apablaza, motivo, calidad, menor, salud, jornada, concurso, hija, rechazo, Jesús, comunidad,\n",
            "\n",
            "\n",
            "Cluster 31 - Total words: 17\n",
            "\n",
            "\n",
            "Words: vida, gestión, mayoría, interés, dar, idea, equipo, beneficio, programa, suponer, humano, fijar, Venezuela, Chávez, viejo, bebé, enfermedad,\n",
            "\n",
            "\n",
            "Cluster 32 - Total words: 2\n",
            "\n",
            "\n",
            "Words: Manuel, Instituto,\n",
            "\n",
            "\n",
            "Cluster 33 - Total words: 40\n",
            "\n",
            "\n",
            "Words: gobierno, problema, mujer, permitir, poder, educación, llevar, servicio, derecho, advertir, Corte, fuente, tratar, causa, ciudadano, Federal, dato, responsable, juicio, fallo, iniciativa, participación, señalar, judicial, ratificar, organismo, Hugo, allá, oficialismo, necesidad, previsto, novela, presunto, origen, material, consulta, preferir, integrante, disponer, arma,\n",
            "\n",
            "\n",
            "Cluster 34 - Total words: 1\n",
            "\n",
            "\n",
            "Words: Llosa,\n",
            "\n",
            "\n",
            "Cluster 35 - Total words: 19\n",
            "\n",
            "\n",
            "Words: mostrar, Daniel, Interior, decir, confirmar, condición, cambiar, viernes, pedido, español, dispuesto, Juez, reforma, solicitar, calificar, Pedro, término, Electoral, Jaime,\n",
            "\n",
            "\n",
            "Cluster 36 - Total words: 25\n",
            "\n",
            "\n",
            "Words: chico, tomar, participar, padre, autoridad, reclamo, protesta, clase, docente, reunión, conflicto, paso, asamblea, Ley, anoche, infraestructura, miércoles, Grahovac, representante, estudiantil, ubicado, delegado, universitario, reunir, Campana,\n",
            "\n",
            "\n",
            "Cluster 37 - Total words: 28\n",
            "\n",
            "\n",
            "Words: cargo, diario, terminar, sostener, Sota, calle, cuyo, apuntar, aparecer, alcanzar, especial, estatal, marzo, trabajar, fecha, A, convocar, CTA, secretario, transporte, Héctor, Cuarto, histórico, pago, Consejo, República, candidatura, adelantar,\n",
            "\n",
            "\n",
            "Cluster 38 - Total words: 20\n",
            "\n",
            "\n",
            "Words: ley, parecer, prensa, diálogo, vía, viajar, Néstor, peso, escuchar, acompañar, norma, integrar, adulto, Provincial, profesor, lista, analizar, expresar, establecer, finalmente,\n",
            "\n",
            "\n",
            "Cluster 39 - Total words: 9\n",
            "\n",
            "\n",
            "Words: presidente, policía, Correa, Ecuador, policial, jueves, Rafael, común, mensaje,\n",
            "\n",
            "\n",
            "Cluster 40 - Total words: 10\n",
            "\n",
            "\n",
            "Words: Aires, creer, ganar, cara, pequeño, recién, tarea, evento, integrado, convertir,\n",
            "\n",
            "\n",
            "Cluster 41 - Total words: 2\n",
            "\n",
            "\n",
            "Words: Partido, Silva,\n",
            "\n",
            "\n",
            "Cluster 42 - Total words: 1\n",
            "\n",
            "\n",
            "Words: América,\n",
            "\n",
            "\n",
            "Cluster 43 - Total words: 37\n",
            "\n",
            "\n",
            "Words: país, seguir, grupo, social, funcionario, relación, actividad, cumplir, acción, razón, mercado, producto, contar, evitar, movimiento, presupuesto, cantidad, planta, periodista, puesto, mayor, empleado, costo, comercio, intención, crecimiento, economía, pleno, edición, luz, mecanismo, reacción, venta, demanda, Fiat, salida, Comercio,\n",
            "\n",
            "\n",
            "Cluster 44 - Total words: 9\n",
            "\n",
            "\n",
            "Words: escuela, estudiante, toma, colegio, alumno, Educación, secundario, tomado, levantar,\n",
            "\n",
            "\n"
          ]
        }
      ]
    },
    {
      "cell_type": "code",
      "metadata": {
        "id": "PigbA_0iTRv3",
        "colab": {
          "base_uri": "https://localhost:8080/"
        },
        "outputId": "cab23ebf-cca6-4fd6-affd-fc1806580c53"
      },
      "source": [
        "search_word_cluster(clusters, words, 'colegio')"
      ],
      "id": "PigbA_0iTRv3",
      "execution_count": 134,
      "outputs": [
        {
          "output_type": "execute_result",
          "data": {
            "text/plain": [
              "['escuela',\n",
              " 'estudiante',\n",
              " 'toma',\n",
              " 'colegio',\n",
              " 'alumno',\n",
              " 'Educación',\n",
              " 'secundario',\n",
              " 'tomado',\n",
              " 'levantar']"
            ]
          },
          "metadata": {},
          "execution_count": 134
        }
      ]
    },
    {
      "cell_type": "code",
      "metadata": {
        "colab": {
          "base_uri": "https://localhost:8080/"
        },
        "id": "yle-D1a1IGvp",
        "outputId": "a9fd62cb-937f-473b-da6a-7af65874fac2"
      },
      "source": [
        "search_word_cluster(clusters, words, 'lunes')"
      ],
      "id": "yle-D1a1IGvp",
      "execution_count": 135,
      "outputs": [
        {
          "output_type": "execute_result",
          "data": {
            "text/plain": [
              "['Córdoba',\n",
              " 'proyecto',\n",
              " 'cordobés',\n",
              " 'Provincia',\n",
              " 'ruta',\n",
              " 'pagar',\n",
              " 'brasileño',\n",
              " 'lunes',\n",
              " 'estudio',\n",
              " 'área',\n",
              " 'entregar',\n",
              " 'habitante',\n",
              " 'registrar',\n",
              " 'julio',\n",
              " 'construcción',\n",
              " 'par',\n",
              " 'Municipalidad',\n",
              " 'Jorge',\n",
              " 'suerte',\n",
              " 'revelar']"
            ]
          },
          "metadata": {},
          "execution_count": 135
        }
      ]
    },
    {
      "cell_type": "code",
      "metadata": {
        "colab": {
          "base_uri": "https://localhost:8080/"
        },
        "id": "tcNRxy4vIYng",
        "outputId": "95aa49fd-70c2-4d28-a802-09f0ea54a9d1"
      },
      "source": [
        "search_word_cluster(clusters, words, 'Afip')"
      ],
      "id": "tcNRxy4vIYng",
      "execution_count": 138,
      "outputs": [
        {
          "output_type": "execute_result",
          "data": {
            "text/plain": [
              "['provincia',\n",
              " 'quedar',\n",
              " 'sumar',\n",
              " 'barrio',\n",
              " 'Afip',\n",
              " 'edificio',\n",
              " 'cifra',\n",
              " 'insistir',\n",
              " 'representar',\n",
              " 'informe',\n",
              " 'aula',\n",
              " 'atención',\n",
              " 'Legislatura',\n",
              " 'cuerpo',\n",
              " 'rescate',\n",
              " 'suba',\n",
              " 'depender']"
            ]
          },
          "metadata": {},
          "execution_count": 138
        }
      ]
    },
    {
      "cell_type": "code",
      "metadata": {
        "colab": {
          "base_uri": "https://localhost:8080/"
        },
        "id": "mP6sYHz1IK1o",
        "outputId": "602dc42c-2bec-4eb6-855d-8e1025b4c953"
      },
      "source": [
        "in_same_cluster(clusters, words, ['lunes', 'jueves', 'viernes', 'domingo'])"
      ],
      "id": "mP6sYHz1IK1o",
      "execution_count": 137,
      "outputs": [
        {
          "output_type": "execute_result",
          "data": {
            "text/plain": [
              "False"
            ]
          },
          "metadata": {},
          "execution_count": 137
        }
      ]
    },
    {
      "cell_type": "code",
      "metadata": {
        "id": "4FibzbREIRx-"
      },
      "source": [
        ""
      ],
      "id": "4FibzbREIRx-",
      "execution_count": null,
      "outputs": []
    }
  ]
}